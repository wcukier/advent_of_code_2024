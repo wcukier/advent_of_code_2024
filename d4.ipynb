{
 "cells": [
  {
   "cell_type": "code",
   "execution_count": 35,
   "metadata": {},
   "outputs": [],
   "source": [
    "import numpy as np"
   ]
  },
  {
   "cell_type": "code",
   "execution_count": 75,
   "metadata": {},
   "outputs": [],
   "source": [
    "word_search = []\n",
    "with open(\"d4_input\") as f:\n",
    "    for line in f:\n",
    "        word_search.append(list(line[:-1]))\n",
    "    \n",
    "h = len(word_search)\n",
    "w = len(word_search[0])\n",
    "\n",
    "word_search = np.array(word_search)"
   ]
  },
  {
   "cell_type": "code",
   "execution_count": 83,
   "metadata": {},
   "outputs": [],
   "source": [
    "HORIZONTAL = 0\n",
    "VERTICAL = 1\n",
    "DIAGONAL_R = 2\n",
    "DIAGONAL_L = 3\n",
    "\n",
    "\n",
    "\n",
    "def check_string(word_search, x, y, direction, string):\n",
    "    if len(string) == 0: return True\n",
    "    if x >= w: return False\n",
    "    if x < 0: return False\n",
    "    if y >= h: return False\n",
    "    if word_search[x][y] != string[0]: return False\n",
    "    if direction == HORIZONTAL: return check_string(word_search, x+1, y, direction, string[1:])\n",
    "    if direction == VERTICAL: return check_string(word_search, x, y+1, direction, string[1:])\n",
    "    if direction == DIAGONAL_R: return check_string(word_search, x+1, y+1, direction, string[1:])\n",
    "    if direction == DIAGONAL_L: return check_string(word_search, x-1, y+1, direction, string[1:])\n",
    "\n",
    "    \n",
    "    "
   ]
  },
  {
   "cell_type": "code",
   "execution_count": 82,
   "metadata": {},
   "outputs": [
    {
     "name": "stdout",
     "output_type": "stream",
     "text": [
      "2613\n"
     ]
    }
   ],
   "source": [
    "words = [\"SAMX\", \"XMAS\"]\n",
    "directions = [HORIZONTAL, VERTICAL, DIAGONAL_R, DIAGONAL_L]\n",
    "\n",
    "n_words = 0\n",
    "\n",
    "for y in range(h):\n",
    "    for x in range(w):\n",
    "        for word in words:\n",
    "            for dir in directions:\n",
    "                n_words += check_string(word_search, x, y, dir, word)\n",
    "\n",
    "print(n_words)"
   ]
  },
  {
   "cell_type": "code",
   "execution_count": 85,
   "metadata": {},
   "outputs": [],
   "source": [
    "def check_xmas(word_search, x, y):\n",
    "    if x <1 or x > w-2: return False\n",
    "    if y <1 or y > w-2: return False   \n",
    "    \n",
    "    if word_search[x-1][y-1] == \"M\":\n",
    "        if word_search[x+1][y+1] != \"S\": return False\n",
    "    elif word_search[x-1][y-1] == \"S\":\n",
    "        if word_search[x+1][y+1] != \"M\": return False\n",
    "    else: return False\n",
    "    \n",
    "    if word_search[x+1][y-1] == \"M\":\n",
    "            if word_search[x-1][y+1] != \"S\": return False\n",
    "    elif word_search[x+1][y-1] == \"S\":\n",
    "        if word_search[x-1][y+1] != \"M\": return False\n",
    "    else: return False\n",
    "    \n",
    "    return True"
   ]
  },
  {
   "cell_type": "code",
   "execution_count": 86,
   "metadata": {},
   "outputs": [
    {
     "name": "stdout",
     "output_type": "stream",
     "text": [
      "1905\n"
     ]
    }
   ],
   "source": [
    "n_words = 0\n",
    "\n",
    "for y in range(h):\n",
    "    for x in range(w):\n",
    "        if word_search[x][y] == \"A\":\n",
    "            n_words += check_xmas(word_search, x, y)\n",
    "            \n",
    "print(n_words)"
   ]
  },
  {
   "cell_type": "code",
   "execution_count": null,
   "metadata": {},
   "outputs": [],
   "source": []
  }
 ],
 "metadata": {
  "kernelspec": {
   "display_name": "Python 3.12.4 ('base')",
   "language": "python",
   "name": "python3"
  },
  "language_info": {
   "codemirror_mode": {
    "name": "ipython",
    "version": 3
   },
   "file_extension": ".py",
   "mimetype": "text/x-python",
   "name": "python",
   "nbconvert_exporter": "python",
   "pygments_lexer": "ipython3",
   "version": "3.12.4"
  },
  "orig_nbformat": 4,
  "vscode": {
   "interpreter": {
    "hash": "3067ead486e059ec00ffe7555bdb889e6e264a24dc711bf108106cc7baee8d5d"
   }
  }
 },
 "nbformat": 4,
 "nbformat_minor": 2
}
