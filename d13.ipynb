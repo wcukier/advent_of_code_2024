{
 "cells": [
  {
   "cell_type": "markdown",
   "metadata": {},
   "source": [
    "This problem is just solving the linear equation:\n",
    "$$\\begin{pmatrix} a_x & b_x \\\\ a_y & b_y \\end{pmatrix}\\begin{pmatrix}n_a \\\\ n_b\\end{pmatrix} = \\begin{pmatrix} X \\\\ Y \\end{pmatrix}$$\n",
    "\n",
    "and minimizing $3 n_a + n_b$ over $\\mathbb{Z}_{100}$\n",
    "\n",
    "If $\\vec{a}$ is not a multiple of $\\vec{b}$ this should be a well defined problem and thus we won't need to deal with the minimization step.  \n",
    "\n",
    "Otherwise we can just press A until pressing A will overshoot and then see if we can press B"
   ]
  },
  {
   "cell_type": "code",
   "execution_count": 1,
   "metadata": {},
   "outputs": [],
   "source": [
    "import numpy as np"
   ]
  },
  {
   "cell_type": "code",
   "execution_count": 193,
   "metadata": {},
   "outputs": [],
   "source": [
    "TOKEN_COST = [3, 1]\n",
    "\n",
    "def solve_claw(b_matrix, prize_pos, pt_2=0):\n",
    "    if np.abs(np.linalg.det(b_matrix)) < 1e-3:\n",
    "        print(np.linalg.det(b_matrix))\n",
    "        print(b_matrix)\n",
    "        raise\n",
    "    sol = np.linalg.solve(b_matrix, prize_pos + pt_2*10000000000000)\n",
    "\n",
    "    if np.any(sol < 0): return 0\n",
    "    if np.logical_not(np.all(np.abs(sol - np.round(sol)) < 1e-3)): \n",
    "        return 0\n",
    "\n",
    "    return int(np.round(np.sum(TOKEN_COST * sol)))\n",
    "    "
   ]
  },
  {
   "cell_type": "code",
   "execution_count": 194,
   "metadata": {},
   "outputs": [],
   "source": [
    "b_matrices = []\n",
    "prize_locs = []\n",
    "with open(\"d13_input\") as f:\n",
    "    i = 0\n",
    "    for line in f:\n",
    "        if i == 0:\n",
    "            _, a_x, a_y = line[:-1].split(\"+\")\n",
    "            a_x, _ = a_x.split(\",\")\n",
    "            a_x, a_y = int(a_x), int(a_y)\n",
    "        if i == 1:\n",
    "            _, b_x, b_y = line[:-1].split(\"+\")\n",
    "            b_x, _ = b_x.split(\",\")\n",
    "            b_x, b_y = int(b_x), int(b_y)\n",
    "\n",
    "            b_matrix = np.array([[a_x, b_x], [a_y, b_y]])\n",
    "            b_matrices.append(b_matrix)\n",
    "        if i == 2:\n",
    "            _, p_x, p_y = line[:-1].split(\"=\")\n",
    "            p_x, _ = p_x.split(\",\")\n",
    "            p_x, p_y = int(p_x), int(p_y)\n",
    "            prize_locs.append(np.array([p_x, p_y]))\n",
    "        \n",
    "        i = (i + 1) % 4"
   ]
  },
  {
   "cell_type": "code",
   "execution_count": 195,
   "metadata": {},
   "outputs": [
    {
     "name": "stdout",
     "output_type": "stream",
     "text": [
      "32067\n",
      "92871736253789\n"
     ]
    }
   ],
   "source": [
    "sum = 0\n",
    "sum2 = 0\n",
    "for i in range(len(b_matrices)):\n",
    "    sum += solve_claw(b_matrices[i], prize_locs[i])\n",
    "    sum2 += solve_claw(b_matrices[i], prize_locs[i], pt_2=True)\n",
    "print(sum)\n",
    "print(sum2)"
   ]
  },
  {
   "cell_type": "code",
   "execution_count": 10,
   "metadata": {},
   "outputs": [
    {
     "data": {
      "text/plain": [
       "0.0"
      ]
     },
     "execution_count": 10,
     "metadata": {},
     "output_type": "execute_result"
    }
   ],
   "source": []
  },
  {
   "cell_type": "code",
   "execution_count": 48,
   "metadata": {},
   "outputs": [
    {
     "data": {
      "text/plain": [
       "320"
      ]
     },
     "execution_count": 48,
     "metadata": {},
     "output_type": "execute_result"
    }
   ],
   "source": [
    "len(prize_locs)"
   ]
  },
  {
   "cell_type": "code",
   "execution_count": null,
   "metadata": {},
   "outputs": [],
   "source": []
  }
 ],
 "metadata": {
  "kernelspec": {
   "display_name": "Python 3.8.19",
   "language": "python",
   "name": "python3"
  },
  "language_info": {
   "codemirror_mode": {
    "name": "ipython",
    "version": 3
   },
   "file_extension": ".py",
   "mimetype": "text/x-python",
   "name": "python",
   "nbconvert_exporter": "python",
   "pygments_lexer": "ipython3",
   "version": "3.8.19"
  },
  "orig_nbformat": 4,
  "vscode": {
   "interpreter": {
    "hash": "aaead61585ffbfa77ad988ca8cedcffcb67b4f54f12412d1ad3b769248fed130"
   }
  }
 },
 "nbformat": 4,
 "nbformat_minor": 2
}
