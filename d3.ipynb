{
 "cells": [
  {
   "cell_type": "code",
   "execution_count": 1,
   "metadata": {},
   "outputs": [],
   "source": [
    "import numpy as np\n",
    "import re"
   ]
  },
  {
   "cell_type": "code",
   "execution_count": 12,
   "metadata": {},
   "outputs": [],
   "source": [
    "def mul(string):\n",
    "    x1, x2 = string.split(\",\")\n",
    "    x1 = int(x1[4:])\n",
    "    x2 = int(x2[:-1])\n",
    "    return x1*x2"
   ]
  },
  {
   "cell_type": "code",
   "execution_count": 24,
   "metadata": {},
   "outputs": [
    {
     "name": "stdout",
     "output_type": "stream",
     "text": [
      "173785482\n"
     ]
    }
   ],
   "source": [
    "sum = 0\n",
    "with open(\"d3_input\") as f:\n",
    "    for line in f:\n",
    "        matches = re.findall(\"mul\\\\([0-9]*,[0-9]*\\\\)\", line)\n",
    "        sum += np.sum([mul(i)for i in matches])\n",
    "print(sum)"
   ]
  },
  {
   "cell_type": "code",
   "execution_count": 36,
   "metadata": {},
   "outputs": [
    {
     "name": "stdout",
     "output_type": "stream",
     "text": [
      "83158140\n"
     ]
    }
   ],
   "source": [
    "DO = 0\n",
    "DONT = 1\n",
    "state = DO\n",
    "\n",
    "sum = 0\n",
    "with open(\"d3_input\") as f:\n",
    "    for line in f:\n",
    "        enabled_blocks = line.split(\"do()\")\n",
    "        for block in enabled_blocks[state:]:\n",
    "            s = block.split(\"don't()\")\n",
    "            matches = re.findall(\"mul\\\\([0-9]*,[0-9]*\\\\)\", s[0])\n",
    "            sum += np.sum([mul(i)for i in matches])\n",
    "            if len(s) > 1:\n",
    "                state = DONT\n",
    "            else:\n",
    "                state = DO\n",
    "        \n",
    "print(sum)"
   ]
  }
 ],
 "metadata": {
  "kernelspec": {
   "display_name": "Python 3.12.4 ('base')",
   "language": "python",
   "name": "python3"
  },
  "language_info": {
   "codemirror_mode": {
    "name": "ipython",
    "version": 3
   },
   "file_extension": ".py",
   "mimetype": "text/x-python",
   "name": "python",
   "nbconvert_exporter": "python",
   "pygments_lexer": "ipython3",
   "version": "3.12.4"
  },
  "orig_nbformat": 4,
  "vscode": {
   "interpreter": {
    "hash": "3067ead486e059ec00ffe7555bdb889e6e264a24dc711bf108106cc7baee8d5d"
   }
  }
 },
 "nbformat": 4,
 "nbformat_minor": 2
}
