{
 "cells": [
  {
   "cell_type": "code",
   "execution_count": 221,
   "metadata": {},
   "outputs": [],
   "source": [
    "import numpy as np\n",
    "from tqdm.notebook import tqdm"
   ]
  },
  {
   "cell_type": "code",
   "execution_count": 222,
   "metadata": {},
   "outputs": [],
   "source": [
    "OBS = 1\n",
    "WALL = 2\n",
    "\n",
    "map_init = []\n",
    "instuctions = []\n",
    "with open(\"d15_input\") as f:\n",
    "    for line in f:\n",
    "        if line[0] == \"#\":\n",
    "            map_init.append(list(line[:-1]))\n",
    "        elif line[0] != \"\\n\":\n",
    "            instuctions.append((list(line[:-1])))\n",
    "        \n",
    "map_init = np.array(map_init)\n",
    "map = np.zeros(map_init.shape)\n",
    "map[map_init == \"O\"] = OBS\n",
    "map[map_init == \"#\"] = WALL\n",
    "loc = np.where(map_init==\"@\")\n",
    "loc = loc[0][0], loc[1][0]\n",
    "\n",
    "instuctions = np.ravel(np.array(instuctions))"
   ]
  },
  {
   "cell_type": "code",
   "execution_count": 223,
   "metadata": {},
   "outputs": [],
   "source": [
    "dir = {\"<\": (0, -1),\n",
    "       \">\": (0, 1),\n",
    "       \"v\": (1, 0),\n",
    "       \"^\": (-1, 0)}\n",
    "\n",
    "def move(vel, pos):\n",
    "    if not map[pos[0], pos[1]]: return True\n",
    "    if map[pos[0], pos[1]] == WALL: return False\n",
    "    can_move = move(vel, [pos[0] + vel[0], pos[1] + vel[1]])\n",
    "    if can_move:\n",
    "        map[pos[0] + vel[0], pos[1] + vel[1]] = 1\n",
    "        map[pos[0], pos[1]] = 0\n",
    "    return can_move\n",
    "    "
   ]
  },
  {
   "cell_type": "code",
   "execution_count": 224,
   "metadata": {},
   "outputs": [
    {
     "data": {
      "application/vnd.jupyter.widget-view+json": {
       "model_id": "721029ca43c84fdda292ed19b8e3a543",
       "version_major": 2,
       "version_minor": 0
      },
      "text/plain": [
       "  0%|          | 0/20000 [00:00<?, ?it/s]"
      ]
     },
     "metadata": {},
     "output_type": "display_data"
    },
    {
     "name": "stdout",
     "output_type": "stream",
     "text": [
      "1457740\n"
     ]
    }
   ],
   "source": [
    "for instr in tqdm(instuctions):\n",
    "    # print(instr)\n",
    "    can_move = move(dir[instr], \n",
    "                    [loc[0]+dir[instr][0], loc[1]+dir[instr][1]])\n",
    "    if can_move:\n",
    "      \n",
    "        loc = loc[0] + dir[instr][0], loc[1] + dir[instr][1]\n",
    "print(100 * np.sum(np.where(map == 1)[0]) + np.sum(np.where(map == 1)[1]))\n",
    "    \n",
    "\n"
   ]
  },
  {
   "cell_type": "code",
   "execution_count": 254,
   "metadata": {},
   "outputs": [],
   "source": [
    "LEFT = 1\n",
    "RIGHT = 2\n",
    "WALL = 3\n",
    "\n",
    "map_init = []\n",
    "instuctions = []\n",
    "with open(\"d15_input\") as f:\n",
    "    for line in f:\n",
    "        if line[0] == \"#\":\n",
    "            line = line.replace(\".\", \"..\")\n",
    "            line = line.replace(\"#\", \"##\")\n",
    "            line = line.replace(\"O\", \"[]\")\n",
    "            line = line.replace(\"@\", \"@.\")\n",
    "            map_init.append(list(line[:-1]))\n",
    "        elif line[0] != \"\\n\":\n",
    "            instuctions.append((list(line[:-1])))\n",
    "        \n",
    "map_init = np.array(map_init)\n",
    "map = np.zeros(map_init.shape)\n",
    "map[map_init == \"[\"] = LEFT\n",
    "map[map_init == \"]\"] = RIGHT\n",
    "map[map_init == \"#\"] = WALL\n",
    "loc = np.where(map_init==\"@\")\n",
    "loc = loc[0][0], loc[1][0]\n",
    "\n",
    "instuctions = np.ravel(np.array(instuctions))"
   ]
  },
  {
   "cell_type": "code",
   "execution_count": 255,
   "metadata": {},
   "outputs": [],
   "source": [
    "dir = {\"<\": (0, -1),\n",
    "       \">\": (0, 1),\n",
    "       \"v\": (1, 0),\n",
    "       \"^\": (-1, 0)}\n",
    "\n",
    "def move(vel, pos, update_pos):\n",
    "    # print(vel, pos)\n",
    "    if not map[pos[0], pos[1]]: return True\n",
    "    if map[pos[0], pos[1]] == WALL: return False\n",
    "    if map[pos[0], pos[1]] == RIGHT: return move(vel, [pos[0], pos[1]-1], update_pos)\n",
    "    if vel == dir[\">\"]:\n",
    "        can_move = move(vel, [pos[0] + 2* vel[0], pos[1] + 2* vel[1]], update_pos)\n",
    "    elif vel == dir[\"<\"]:\n",
    "        can_move = move(vel, [pos[0] + vel[0], pos[1] + vel[1]], update_pos)\n",
    "    else:\n",
    "         can_move = move(vel, [pos[0] + vel[0], pos[1] + vel[1]], update_pos) * move(vel, [pos[0] + vel[0], pos[1] + 1 +vel[1]], update_pos)\n",
    "    if can_move:\n",
    "        if vel == dir[\">\"]:\n",
    "            if [pos[0], pos[1]+1] not in update_pos:\n",
    "                update_pos.append([pos[0], pos[1]+1])\n",
    "            if [pos[0], pos[1]] not in update_pos:\n",
    "                update_pos.append([pos[0], pos[1]])\n",
    "        else:\n",
    "            if [pos[0], pos[1]] not in update_pos:\n",
    "                update_pos.append([pos[0], pos[1]])\n",
    "            if [pos[0], pos[1]+1] not in update_pos:\n",
    "                update_pos.append([pos[0], pos[1]+1])\n",
    "    return can_move\n",
    "    "
   ]
  },
  {
   "cell_type": "code",
   "execution_count": 256,
   "metadata": {},
   "outputs": [],
   "source": [
    "text_enc = {WALL: \"#\",\n",
    "            LEFT: \"[\",\n",
    "            RIGHT: \"]\",\n",
    "            0: \".\",\n",
    "            -1: \"@\"}\n",
    "\n",
    "\n",
    "def to_print(map, pos, instr):\n",
    "    map[pos[0], pos[1]] = -1\n",
    "    i = 0\n",
    "    str = \"\"\n",
    "    for line in map:\n",
    "        for c in line:\n",
    "            str += text_enc[int(c)]\n",
    "        if i == int(map.shape[0]/2):\n",
    "            str += \"\\t\\t\" + instr\n",
    "        str += \"\\n\"\n",
    "        i += 1\n",
    "    map[pos[0], pos[1]] = 0\n",
    "    return str"
   ]
  },
  {
   "cell_type": "code",
   "execution_count": 257,
   "metadata": {},
   "outputs": [
    {
     "data": {
      "application/vnd.jupyter.widget-view+json": {
       "model_id": "a9c95b3b2bf04d9b9ae121332114fd15",
       "version_major": 2,
       "version_minor": 0
      },
      "text/plain": [
       "  0%|          | 0/20000 [00:00<?, ?it/s]"
      ]
     },
     "metadata": {},
     "output_type": "display_data"
    },
    {
     "name": "stdout",
     "output_type": "stream",
     "text": [
      "1467145\n"
     ]
    }
   ],
   "source": [
    "\n",
    "for instr in tqdm(instuctions):\n",
    "    # str = to_print(map, loc, instr)\n",
    "    update_pos = []\n",
    "    can_move = move(dir[instr], \n",
    "                    [loc[0]+dir[instr][0], loc[1]+dir[instr][1]],\n",
    "                    update_pos)\n",
    "    if can_move:\n",
    "        for pos in update_pos:\n",
    "            map[pos[0]+dir[instr][0], pos[1]+dir[instr][1]] = map[pos[0], pos[1]]\n",
    "            map[pos[0], pos[1]] = 0\n",
    "        loc = loc[0] + dir[instr][0], loc[1] + dir[instr][1]\n",
    "        # if (update_pos):\n",
    "        #     print(str)\n",
    "        #     print(update_pos)\n",
    "        #     print(to_print(map, loc, instr))\n",
    "            \n",
    "print(100 * np.sum(np.where(map == LEFT)[0]) + np.sum(np.where(map == LEFT)[1]))\n",
    "    \n",
    "\n",
    "# to_print(map, loc, instr)"
   ]
  },
  {
   "cell_type": "code",
   "execution_count": null,
   "metadata": {},
   "outputs": [],
   "source": []
  },
  {
   "cell_type": "code",
   "execution_count": 229,
   "metadata": {},
   "outputs": [
    {
     "data": {
      "text/plain": [
       "array([[3., 3., 3., 3., 3., 3., 3., 3., 3., 3., 3., 3., 3., 3., 3., 3.,\n",
       "        3., 3., 3., 3.],\n",
       "       [3., 3., 1., 2., 0., 0., 0., 0., 0., 0., 0., 1., 2., 0., 1., 2.,\n",
       "        1., 2., 3., 3.],\n",
       "       [3., 3., 1., 2., 0., 0., 0., 0., 0., 0., 0., 0., 0., 0., 0., 1.,\n",
       "        2., 0., 3., 3.],\n",
       "       [3., 3., 1., 2., 0., 0., 0., 0., 0., 0., 0., 0., 1., 2., 1., 2.,\n",
       "        1., 2., 3., 3.],\n",
       "       [3., 3., 1., 2., 0., 0., 0., 0., 0., 0., 1., 2., 0., 0., 0., 0.,\n",
       "        1., 2., 3., 3.],\n",
       "       [3., 3., 0., 0., 3., 3., 0., 0., 0., 0., 0., 0., 1., 2., 0., 0.,\n",
       "        0., 0., 3., 3.],\n",
       "       [3., 3., 0., 0., 1., 2., 0., 0., 0., 0., 0., 0., 0., 0., 0., 0.,\n",
       "        0., 0., 3., 3.],\n",
       "       [3., 3., 0., 0., 0., 0., 0., 0., 0., 0., 0., 1., 2., 0., 1., 2.,\n",
       "        1., 2., 3., 3.],\n",
       "       [3., 3., 0., 0., 0., 0., 0., 0., 1., 2., 1., 2., 0., 0., 1., 2.,\n",
       "        0., 0., 3., 3.],\n",
       "       [3., 3., 3., 3., 3., 3., 3., 3., 3., 3., 3., 3., 3., 3., 3., 3.,\n",
       "        3., 3., 3., 3.]])"
      ]
     },
     "execution_count": 229,
     "metadata": {},
     "output_type": "execute_result"
    }
   ],
   "source": [
    "map"
   ]
  },
  {
   "cell_type": "code",
   "execution_count": null,
   "metadata": {},
   "outputs": [],
   "source": []
  }
 ],
 "metadata": {
  "kernelspec": {
   "display_name": "Python 3.12.4 ('base')",
   "language": "python",
   "name": "python3"
  },
  "language_info": {
   "codemirror_mode": {
    "name": "ipython",
    "version": 3
   },
   "file_extension": ".py",
   "mimetype": "text/x-python",
   "name": "python",
   "nbconvert_exporter": "python",
   "pygments_lexer": "ipython3",
   "version": "3.12.4"
  },
  "orig_nbformat": 4,
  "vscode": {
   "interpreter": {
    "hash": "3067ead486e059ec00ffe7555bdb889e6e264a24dc711bf108106cc7baee8d5d"
   }
  }
 },
 "nbformat": 4,
 "nbformat_minor": 2
}
