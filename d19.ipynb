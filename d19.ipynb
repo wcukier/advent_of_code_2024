{
 "cells": [
  {
   "cell_type": "code",
   "execution_count": 56,
   "metadata": {},
   "outputs": [],
   "source": [
    "import numpy as np\n",
    "from tqdm.notebook import tqdm\n",
    "import functools"
   ]
  },
  {
   "cell_type": "code",
   "execution_count": 51,
   "metadata": {},
   "outputs": [],
   "source": [
    "patterns = []\n",
    "max_len = 0\n",
    "with open(\"d19_input\") as f:\n",
    "    substrings = f.readline()[:-1].split(\", \")\n",
    "    f.readline()\n",
    "    for line in f:\n",
    "        patterns.append(line[:-1])\n",
    "        \n",
    "towels = {}\n",
    "for s in substrings:\n",
    "    max_len = max(max_len, len(s))\n",
    "    towels[s] = True"
   ]
  },
  {
   "cell_type": "code",
   "execution_count": 60,
   "metadata": {},
   "outputs": [],
   "source": [
    "def check_pattern(pattern):\n",
    "    # print(pattern, len(pattern))\n",
    "    if pattern == \"\": return True\n",
    "    for i in range(min(max_len, len(pattern)), 0, -1):\n",
    "        if towels.get(pattern[:i], False):\n",
    "            if check_pattern(pattern[i:]): return True\n",
    "    return False\n",
    "\n",
    "# def check_pattern_2(pattern, memo_book):\n",
    "#     if pattern == \"\": return 1\n",
    "#     sum = 0\n",
    "#     for i in range(min(max_len, len(pattern)), 0, -1):\n",
    "#         if towels.get(pattern[:i], False):\n",
    "#             val = memo_book.get(pattern[i:], False)\n",
    "#             if not val:\n",
    "#                 val = check_pattern_2(pattern[i:], memo_book)\n",
    "#                 memo_book[pattern[i:]] = val\n",
    "#             sum += val\n",
    "#     return sum\n",
    "\n",
    "@functools.cache\n",
    "def check_pattern_2(pattern):\n",
    "    if pattern == \"\": return 1\n",
    "    sum = 0\n",
    "    for i in range(min(max_len, len(pattern)), 0, -1):\n",
    "        if towels.get(pattern[:i], False):\n",
    "               sum += check_pattern_2(pattern[i:])\n",
    "    return sum\n",
    "\n"
   ]
  },
  {
   "cell_type": "code",
   "execution_count": 61,
   "metadata": {},
   "outputs": [
    {
     "data": {
      "application/vnd.jupyter.widget-view+json": {
       "model_id": "17b454d578004d55b85e2ec3908b5b5b",
       "version_major": 2,
       "version_minor": 0
      },
      "text/plain": [
       "  0%|          | 0/400 [00:00<?, ?it/s]"
      ]
     },
     "metadata": {},
     "output_type": "display_data"
    },
    {
     "name": "stdout",
     "output_type": "stream",
     "text": [
      "220\n",
      "565600047715343\n"
     ]
    }
   ],
   "source": [
    "sum = 0\n",
    "sum2 = 0\n",
    "memo_book = {}\n",
    "for pattern in tqdm(patterns):\n",
    "    sum += check_pattern(pattern)\n",
    "    sum2 += check_pattern_2(pattern)\n",
    "print(sum)\n",
    "print(sum2)"
   ]
  },
  {
   "cell_type": "code",
   "execution_count": 53,
   "metadata": {},
   "outputs": [
    {
     "data": {
      "text/plain": [
       "11209831620"
      ]
     },
     "execution_count": 53,
     "metadata": {},
     "output_type": "execute_result"
    }
   ],
   "source": [
    "memo_book = {}\n",
    "check_pattern_2(patterns[0], memo_book)"
   ]
  },
  {
   "cell_type": "code",
   "execution_count": null,
   "metadata": {},
   "outputs": [],
   "source": []
  }
 ],
 "metadata": {
  "kernelspec": {
   "display_name": "Python 3.12.2 ('base')",
   "language": "python",
   "name": "python3"
  },
  "language_info": {
   "codemirror_mode": {
    "name": "ipython",
    "version": 3
   },
   "file_extension": ".py",
   "mimetype": "text/x-python",
   "name": "python",
   "nbconvert_exporter": "python",
   "pygments_lexer": "ipython3",
   "version": "3.12.2"
  },
  "orig_nbformat": 4,
  "vscode": {
   "interpreter": {
    "hash": "3067ead486e059ec00ffe7555bdb889e6e264a24dc711bf108106cc7baee8d5d"
   }
  }
 },
 "nbformat": 4,
 "nbformat_minor": 2
}
