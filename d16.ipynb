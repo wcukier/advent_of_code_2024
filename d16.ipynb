{
 "cells": [
  {
   "cell_type": "code",
   "execution_count": 27,
   "metadata": {},
   "outputs": [],
   "source": [
    "import numpy as np\n",
    "import heapq\n",
    "import itertools"
   ]
  },
  {
   "cell_type": "code",
   "execution_count": 95,
   "metadata": {},
   "outputs": [],
   "source": [
    "dirs = {\"<\": (0, -1),\n",
    "       \">\": (0, 1),\n",
    "       \"v\": (1, 0),\n",
    "       \"^\": (-1, 0)}\n",
    "rot = {\"<\": {\"left\" : \"v\",\n",
    "             \"right\": \"^\"},\n",
    "       \"^\": {\"left\" : \"<\",\n",
    "             \"right\": \">\"},\n",
    "        \">\": {\"left\" : \"^\",\n",
    "             \"right\": \"v\"},\n",
    "        \"v\": {\"left\" : \">\",\n",
    "             \"right\": \"<\"},        \n",
    "       }"
   ]
  },
  {
   "cell_type": "code",
   "execution_count": 96,
   "metadata": {},
   "outputs": [],
   "source": [
    "map_init = []\n",
    "with open(\"d16_input\") as f:\n",
    "        for line in f:\n",
    "            map_init.append(list(line[:-1]))\n",
    "            \n",
    "map_init = np.array(map_init)\n",
    "map = np.ones(map_init.shape)\n",
    "map[map_init == \"#\"] = 0\n",
    "map = np.pad(map, 1)\n",
    "loc  = np.where(map_init==\"S\")\n",
    "loc = loc[0][0]+1, loc[1][0]+1\n",
    "\n",
    "end  = np.where(map_init==\"E\")\n",
    "end = end[0][0]+1, end[1][0]+1\n",
    "dir = \">\"\n",
    "# print(dir)"
   ]
  },
  {
   "cell_type": "code",
   "execution_count": 97,
   "metadata": {},
   "outputs": [
    {
     "name": "stdout",
     "output_type": "stream",
     "text": [
      "108504\n"
     ]
    }
   ],
   "source": [
    "pq = []\n",
    "prev = {}\n",
    "dist = {}\n",
    "heapq.heappush(pq, (loc, dir))\n",
    "dist[(loc, dir)] = 0\n",
    "# print(dir)\n",
    "while pq:\n",
    "    loc, dir = heapq.heappop(pq)\n",
    "    # print(loc, dir)\n",
    "     # forward\n",
    "    if map[loc[0] + dirs[dir][0], loc[1] + dirs[dir][1]]:\n",
    "        new_dist = dist[(loc, dir)] + 1\n",
    "        new_state = ((loc[0] + dirs[dir][0], loc[1] + dirs[dir][1]), dir)\n",
    "        \n",
    "        if new_dist < dist.get(new_state, np.inf):\n",
    "            dist[new_state] = new_dist\n",
    "            heapq.heappush(pq, new_state)\n",
    "            prev[new_state] = [(loc, dir)]\n",
    "        elif new_dist == dist.get(new_state, np.inf):\n",
    "            prev[new_state].append((loc, dir))\n",
    "    \n",
    "            \n",
    "    #left\n",
    "    new_dir = rot[dir][\"left\"]\n",
    "    new_dist = dist[(loc, dir)] + 1000\n",
    "    new_state = (loc, new_dir)\n",
    "    if new_dist < dist.get(new_state, np.inf):\n",
    "        dist[new_state] = new_dist\n",
    "        heapq.heappush(pq, new_state)\n",
    "        prev[new_state] = [(loc, dir)]\n",
    "    elif new_dist == dist.get(new_state, np.inf):\n",
    "        prev[new_state].append((loc, dir))\n",
    "    \n",
    "    #right\n",
    "    new_dir = rot[dir][\"right\"]\n",
    "    new_dist = dist[(loc, dir)] + 1000\n",
    "    new_state = (loc, new_dir)\n",
    "    if new_dist < dist.get(new_state, np.inf):\n",
    "        dist[new_state] = new_dist\n",
    "        heapq.heappush(pq, new_state)\n",
    "        prev[new_state] = [(loc, dir)]\n",
    "    elif new_dist == dist.get(new_state, np.inf):\n",
    "        prev[new_state].append((loc, dir))\n",
    "    \n",
    "             \n",
    "     \n",
    "print(np.min([dist.get((end, dir), np.inf) for dir in dirs.keys()]))"
   ]
  },
  {
   "cell_type": "code",
   "execution_count": 99,
   "metadata": {},
   "outputs": [
    {
     "data": {
      "text/plain": [
       "[('<', 110504), ('>', 108504), ('v', 109504), ('^', 109504)]"
      ]
     },
     "execution_count": 99,
     "metadata": {},
     "output_type": "execute_result"
    }
   ],
   "source": [
    "[(dir, dist.get((end, dir), np.inf)) for dir in dirs.keys()]"
   ]
  },
  {
   "cell_type": "code",
   "execution_count": 92,
   "metadata": {},
   "outputs": [
    {
     "data": {
      "text/plain": [
       "((131, 4), '<')"
      ]
     },
     "execution_count": 92,
     "metadata": {},
     "output_type": "execute_result"
    }
   ],
   "source": [
    "prev[new_state]"
   ]
  },
  {
   "cell_type": "code",
   "execution_count": 76,
   "metadata": {},
   "outputs": [
    {
     "data": {
      "text/plain": [
       "1000"
      ]
     },
     "execution_count": 76,
     "metadata": {},
     "output_type": "execute_result"
    }
   ],
   "source": [
    "dist[loc, \"^\"]"
   ]
  },
  {
   "cell_type": "code",
   "execution_count": 121,
   "metadata": {},
   "outputs": [],
   "source": [
    "def dfs(state, prev, visited, state_reached):\n",
    "    if state_reached.get(state, False): return\n",
    "    state_reached[state] = True\n",
    "    # if visited[state[0]]: return\n",
    "    visited[state[0]] = 1\n",
    "    if not prev.get(state, 0): return\n",
    "    for s in prev[state]:\n",
    "        dfs(s, prev, visited, state_reached)"
   ]
  },
  {
   "cell_type": "code",
   "execution_count": 122,
   "metadata": {},
   "outputs": [
    {
     "name": "stdout",
     "output_type": "stream",
     "text": [
      "538\n"
     ]
    }
   ],
   "source": [
    "state = (end, '>')\n",
    "visited = np.zeros(map.shape)\n",
    "state_reached = {}\n",
    "# visited[state[0]] = 1\n",
    "dfs(state, prev, visited, state_reached)\n",
    "    \n",
    "print(int(np.sum(visited)))"
   ]
  }
 ],
 "metadata": {
  "kernelspec": {
   "display_name": "Python 3.12.4 ('base')",
   "language": "python",
   "name": "python3"
  },
  "language_info": {
   "codemirror_mode": {
    "name": "ipython",
    "version": 3
   },
   "file_extension": ".py",
   "mimetype": "text/x-python",
   "name": "python",
   "nbconvert_exporter": "python",
   "pygments_lexer": "ipython3",
   "version": "3.12.4"
  },
  "orig_nbformat": 4,
  "vscode": {
   "interpreter": {
    "hash": "3067ead486e059ec00ffe7555bdb889e6e264a24dc711bf108106cc7baee8d5d"
   }
  }
 },
 "nbformat": 4,
 "nbformat_minor": 2
}
