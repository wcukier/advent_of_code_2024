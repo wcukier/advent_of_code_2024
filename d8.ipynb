{
 "cells": [
  {
   "cell_type": "code",
   "execution_count": 37,
   "metadata": {},
   "outputs": [],
   "source": [
    "import numpy as np\n",
    "import itertools"
   ]
  },
  {
   "cell_type": "code",
   "execution_count": 19,
   "metadata": {},
   "outputs": [],
   "source": [
    "def idx(i):\n",
    "    return i- ord(\"0\")"
   ]
  },
  {
   "cell_type": "code",
   "execution_count": 59,
   "metadata": {},
   "outputs": [],
   "source": [
    "a_map = []\n",
    "locs = [[] for i in range(ord(\"z\") - ord(\"0\")+1)]\n",
    "y = 0\n",
    "with open(\"d8_input\") as f:\n",
    "    for line in f:\n",
    "        row = list(map(ord, list(line[:-1])))\n",
    "        for x in range(len(row)):\n",
    "            if row[x] != ord(\".\"):\n",
    "                locs[idx(row[x])].append((y, x))\n",
    "        y += 1\n",
    "            \n",
    "            \n",
    "        a_map.append(list(map(ord, list(line[:-1]))))\n",
    "        \n",
    "        \n",
    "h, w =np.array(a_map).shape\n"
   ]
  },
  {
   "cell_type": "code",
   "execution_count": 62,
   "metadata": {},
   "outputs": [
    {
     "name": "stdout",
     "output_type": "stream",
     "text": [
      "367\n"
     ]
    }
   ],
   "source": [
    "antinodes = np.zeros((h, w))\n",
    "\n",
    "for l in locs:\n",
    "    for (y1, x1), (y2, x2) in itertools.combinations(l, 2):\n",
    "        # print((y1, x1), (y2, x2))\n",
    "        dy = y2-y1\n",
    "        dx = x2-x1\n",
    "        if (0 <= (x2 + dx) < w) and (0<= (y2 + dy) < h):\n",
    "            antinodes[y2 + dy, x2 + dx] = 1\n",
    "        if (0 <= (x1 - dx) < w) and (0<= (y1 - dy) < h):\n",
    "            antinodes[y1 - dy, x1 - dx] = 1\n",
    "\n",
    "print(int(np.sum(antinodes)))"
   ]
  },
  {
   "cell_type": "code",
   "execution_count": 65,
   "metadata": {},
   "outputs": [
    {
     "name": "stdout",
     "output_type": "stream",
     "text": [
      "1285\n"
     ]
    }
   ],
   "source": [
    "antinodes = np.zeros((h, w))\n",
    "\n",
    "for l in locs:\n",
    "    for (y1, x1), (y2, x2) in itertools.combinations(l, 2):\n",
    "        # print((y1, x1), (y2, x2))\n",
    "        dy = y2-y1\n",
    "        dx = x2-x1\n",
    "        \n",
    "        for i in range(0, max(h, w)):\n",
    "            if (0 <= (x2 + i*dx) < w) and (0<= (y2 + i*dy) < h):\n",
    "                antinodes[y2 + i*dy, x2 + i*dx] = 1\n",
    "            else:\n",
    "                break\n",
    "        for i in range(0, max(h, w)):\n",
    "            if (0 <= (x1 - i*dx) < w) and (0<= (y1 - i*dy) < h):\n",
    "                antinodes[y1 - i*dy, x1 - i*dx] = 1\n",
    "            else:\n",
    "                break          \n",
    "\n",
    "\n",
    "print(int(np.sum(antinodes)))"
   ]
  },
  {
   "cell_type": "code",
   "execution_count": null,
   "metadata": {},
   "outputs": [],
   "source": []
  }
 ],
 "metadata": {
  "kernelspec": {
   "display_name": "Python 3.12.4 ('base')",
   "language": "python",
   "name": "python3"
  },
  "language_info": {
   "codemirror_mode": {
    "name": "ipython",
    "version": 3
   },
   "file_extension": ".py",
   "mimetype": "text/x-python",
   "name": "python",
   "nbconvert_exporter": "python",
   "pygments_lexer": "ipython3",
   "version": "3.12.4"
  },
  "orig_nbformat": 4,
  "vscode": {
   "interpreter": {
    "hash": "3067ead486e059ec00ffe7555bdb889e6e264a24dc711bf108106cc7baee8d5d"
   }
  }
 },
 "nbformat": 4,
 "nbformat_minor": 2
}
