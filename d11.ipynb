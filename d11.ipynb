{
 "cells": [
  {
   "cell_type": "code",
   "execution_count": 45,
   "metadata": {},
   "outputs": [],
   "source": [
    "import numpy as np\n",
    "from tqdm.notebook import tqdm"
   ]
  },
  {
   "cell_type": "code",
   "execution_count": 56,
   "metadata": {},
   "outputs": [],
   "source": [
    "class Stone:\n",
    "    def __init__(self, value, next):\n",
    "        if type(value)==int or type(value) == str or type(value) == np.int64:\n",
    "            self.val = int(value)\n",
    "            self.next = next\n",
    "        else:\n",
    "            # print(type(value))\n",
    "            self.val = int(value[0])\n",
    "            self.next = next\n",
    "            current = self\n",
    "            for v in value[1:]:\n",
    "                current.next = Stone(v, next)\n",
    "                current = current.next\n",
    "        \n",
    "    def evolve_all(self):\n",
    "        current = self\n",
    "        while(current):\n",
    "            current = current.evolve()\n",
    "            \n",
    "    def evolve_n_times(self, n):\n",
    "        for i in range(n):\n",
    "            self.evolve_all()\n",
    "        return self\n",
    "        \n",
    "    def evolve(self):\n",
    "        if self.val == 0:\n",
    "            self.val = 1\n",
    "            return self.next\n",
    "        if len(str(self.val)) % 2 == 0:\n",
    "            right = Stone(str(self.val)[int(len(str(self.val))/2):], self.next)\n",
    "            \n",
    "            self.val = int(str(self.val)[:int(len(str(self.val))/2)])\n",
    "            self.next = right\n",
    "            return right.next\n",
    "        self.val = self.val * 2024\n",
    "        return self.next\n",
    "            \n",
    "            \n",
    "    def len(self):\n",
    "        current = self\n",
    "        i = 0\n",
    "        while(current):\n",
    "            current = current.next\n",
    "            i += 1\n",
    "        return i\n",
    "    \n",
    "    def __repr__(self):\n",
    "        if self.next:\n",
    "            return str(self.val) + \" \" + self.next.__repr__()\n",
    "        return str(self.val)\n",
    "    \n",
    "    def to_list(self):\n",
    "        list = []\n",
    "        current = self\n",
    "        while(current):\n",
    "            list.append(current.val)\n",
    "            current = current.next\n",
    "        return list\n",
    "    \n",
    "\n",
    "\n"
   ]
  },
  {
   "cell_type": "code",
   "execution_count": 71,
   "metadata": {},
   "outputs": [
    {
     "name": "stdout",
     "output_type": "stream",
     "text": [
      "[6571, 0, 5851763, 526746, 23, 69822, 9, 989]\n"
     ]
    }
   ],
   "source": [
    "with open(\"d11_input\") as f:\n",
    "    init = f.readline().split()\n",
    "\n",
    "first = Stone(init, None)\n",
    "\n",
    "print(first.to_list())"
   ]
  },
  {
   "cell_type": "code",
   "execution_count": 78,
   "metadata": {},
   "outputs": [
    {
     "name": "stdout",
     "output_type": "stream",
     "text": [
      "242090118578155\n"
     ]
    }
   ],
   "source": [
    "memo = {}\n",
    "blinks = 75\n",
    "step = 5\n",
    "stones = {}\n",
    "\n",
    "for i in first.to_list():\n",
    "    stones[i] = stones.get(i, 0) + 1\n",
    "    \n",
    "while blinks > 0:\n",
    "    n_evolve = min(step, blinks)\n",
    "    new_stones = {}\n",
    "    for val in stones.keys():\n",
    "        if n_evolve == step:\n",
    "            memo[val] = memo.get(val, Stone(val, None).evolve_n_times(n_evolve).to_list())\n",
    "            vals, counts = np.unique(memo[val], return_counts=True)\n",
    "            for i in range(len(vals)):\n",
    "                new_stones[vals[i]] = new_stones.get(vals[i], 0) + counts[i] * stones[val]\n",
    "        else:\n",
    "            list = Stone(val, None).evolve_n_times(n_evolve).to_list()\n",
    "            vals, counts = np.unique(list, return_counts=True)\n",
    "            for i in range(len(vals)):\n",
    "                new_stones[vals[i]] = new_stones.get(vals[i], 0) + counts[i] * stones[val]\n",
    "    stones = new_stones\n",
    "    blinks -= n_evolve\n",
    "    \n",
    "    sum = 0\n",
    "    for val in stones.keys():\n",
    "        sum += stones[val]\n",
    "        \n",
    "print(sum)"
   ]
  },
  {
   "cell_type": "code",
   "execution_count": 64,
   "metadata": {},
   "outputs": [
    {
     "data": {
      "text/plain": [
       "203953"
      ]
     },
     "execution_count": 64,
     "metadata": {},
     "output_type": "execute_result"
    }
   ],
   "source": [
    "## pt 1 solution\n",
    "\n",
    "first.evolve_n_times(25)\n",
    "    \n",
    "first.len()"
   ]
  },
  {
   "cell_type": "code",
   "execution_count": null,
   "metadata": {},
   "outputs": [],
   "source": []
  }
 ],
 "metadata": {
  "kernelspec": {
   "display_name": "Python 3.12.4 ('base')",
   "language": "python",
   "name": "python3"
  },
  "language_info": {
   "codemirror_mode": {
    "name": "ipython",
    "version": 3
   },
   "file_extension": ".py",
   "mimetype": "text/x-python",
   "name": "python",
   "nbconvert_exporter": "python",
   "pygments_lexer": "ipython3",
   "version": "3.12.4"
  },
  "orig_nbformat": 4,
  "vscode": {
   "interpreter": {
    "hash": "3067ead486e059ec00ffe7555bdb889e6e264a24dc711bf108106cc7baee8d5d"
   }
  }
 },
 "nbformat": 4,
 "nbformat_minor": 2
}
