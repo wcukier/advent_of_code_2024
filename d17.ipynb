{
 "cells": [
  {
   "cell_type": "code",
   "execution_count": 2,
   "metadata": {},
   "outputs": [],
   "source": [
    "import numpy as np\n",
    "from tqdm.notebook import tqdm\n",
    "import time"
   ]
  },
  {
   "cell_type": "code",
   "execution_count": 3,
   "metadata": {},
   "outputs": [],
   "source": [
    "global register_a\n",
    "global register_b\n",
    "global register_c\n",
    "\n",
    "global ip\n",
    "\n",
    "def read_combo(operand):\n",
    "    global register_a\n",
    "    global register_b\n",
    "    global register_c\n",
    "    if 0 <= operand <= 3: return operand\n",
    "    if operand == 4: return register_a\n",
    "    if operand == 5: return register_b\n",
    "    if operand == 6: return register_c\n",
    "    if operand == 7: raise ValueError(\"opcode 7 reserver\")\n",
    "    raise ValueError(\"opcode invalid\")\n",
    "\n",
    "def adv(operand):\n",
    "    global register_a\n",
    "    register_a = int(register_a / (2**read_combo(operand)))\n",
    "    return \"\"\n",
    "\n",
    "def bxl(operand):\n",
    "    global register_b\n",
    "    register_b = register_b ^ operand\n",
    "    return \"\"\n",
    "    \n",
    "def bst(operand):\n",
    "    global register_b\n",
    "    register_b = read_combo(operand) % 8\n",
    "    return \"\"\n",
    "\n",
    "def jnz(operand):\n",
    "    global ip\n",
    "    if register_a != 0: ip = operand - 2\n",
    "    return \"\"\n",
    "    \n",
    "def bxc(operand):\n",
    "    global register_b\n",
    "    register_b = register_b ^ register_c\n",
    "    return \"\"\n",
    "    \n",
    "def out(operand):\n",
    "    return str(read_combo(operand) % 8) + \",\"\n",
    "    \n",
    "def bdv(operand):\n",
    "    global register_b\n",
    "    register_b = int(register_a / (2**read_combo(operand)))\n",
    "    return \"\"\n",
    "    \n",
    "def cdv(operand):\n",
    "    global register_c\n",
    "    register_c = int(register_a / (2**read_combo(operand)))\n",
    "    return \"\"\n",
    "\n",
    "\n",
    "opcode = {\n",
    "    0: adv,\n",
    "    1: bxl,\n",
    "    2: bst,\n",
    "    3: jnz,\n",
    "    4: bxc,\n",
    "    5: out,\n",
    "    6: bdv,\n",
    "    7: cdv\n",
    "          }"
   ]
  },
  {
   "cell_type": "code",
   "execution_count": 4,
   "metadata": {},
   "outputs": [],
   "source": [
    "def run_program(program, reg_a, reg_b, reg_c):\n",
    "    global register_a\n",
    "    global register_b\n",
    "    global register_c\n",
    "    global ip\n",
    "    \n",
    "    register_a = reg_a\n",
    "    register_b = reg_b\n",
    "    register_c = reg_c\n",
    "    \n",
    "    ip = 0\n",
    "    \n",
    "    std_out = \"\"\n",
    "    \n",
    "    repeated_state = {}\n",
    "    \n",
    "    while(0<= ip < len(program) - 1):\n",
    "        state = (ip, register_a, register_b, register_c)\n",
    "        if repeated_state.get(state, 0): break\n",
    "        repeated_state[state] = 1\n",
    "\n",
    "        std_out += opcode[program[ip]](program[ip + 1])\n",
    "        ip += 2\n",
    "        \n",
    "        if len(std_out) > 30: break\n",
    "        \n",
    "        \n",
    "    return std_out[:-1]\n"
   ]
  },
  {
   "cell_type": "code",
   "execution_count": 25,
   "metadata": {},
   "outputs": [],
   "source": [
    "with open(\"d17_easy_input\") as f:\n",
    "    reg_a = f.readline()[:-1]\n",
    "    reg_a = int(reg_a.split(\":\")[-1])\n",
    "    \n",
    "    reg_b = f.readline()[:-1]\n",
    "    reg_b = int(reg_b.split(\":\")[-1])\n",
    "    \n",
    "    reg_c = f.readline()[:-1]\n",
    "    reg_c = int(reg_c.split(\":\")[1])\n",
    "    \n",
    "    f.readline()\n",
    "    program = f.readline()[:-1]\n",
    "    program = np.array(program.split(\":\")[-1].split(\",\"), dtype=int)"
   ]
  },
  {
   "cell_type": "code",
   "execution_count": 26,
   "metadata": {},
   "outputs": [
    {
     "data": {
      "text/plain": [
       "'3,4,4,1,7,0,2,2'"
      ]
     },
     "execution_count": 26,
     "metadata": {},
     "output_type": "execute_result"
    }
   ],
   "source": [
    "run_program(program, reg_a, reg_b, reg_c)"
   ]
  },
  {
   "cell_type": "code",
   "execution_count": 27,
   "metadata": {},
   "outputs": [],
   "source": [
    "def find_next(target, output):\n",
    "    lo = int(target)\n",
    "    hi = int(target + 8)\n",
    "\n",
    "    for i in (range(lo,hi)):\n",
    "        std_out = run_program(program[:-2], i, 0, 0)\n",
    "        \n",
    "        output[std_out] =  output.get(std_out, {})\n",
    "        output[std_out][register_a] = output[std_out].get(register_a, [])\n",
    "        output[std_out][register_a].append(i)\n",
    "        \n",
    "    return"
   ]
  },
  {
   "cell_type": "code",
   "execution_count": 29,
   "metadata": {},
   "outputs": [
    {
     "data": {
      "application/vnd.jupyter.widget-view+json": {
       "model_id": "f374d2c61e364553b8464c7b43faf279",
       "version_major": 2,
       "version_minor": 0
      },
      "text/plain": [
       "  0%|          | 0/16 [00:00<?, ?it/s]"
      ]
     },
     "metadata": {},
     "output_type": "display_data"
    },
    {
     "name": "stdout",
     "output_type": "stream",
     "text": [
      "0\t7                   0o7                 \n",
      "3\t60                  0o74                \n",
      "5\t485                 0o745               \n",
      "5\t3884                0o7454              \n",
      "4\t31074               0o74542             \n",
      "4\t248594              0o745422            \n",
      "4\t1988754             0o7454222           \n",
      "1\t15910039            0o74542227          \n",
      "3\t127280319           0o745422277         \n",
      "0\t1018242552          0o7454222770        \n",
      "5\t8145940421          0o74542227705       \n",
      "7\t65167523371         0o745422277053      \n",
      "3\t521340186974        0o7454222770536     \n",
      "1\t4170721495792       0o74542227705360    \n",
      "4\t33365771966338      0o745422277053602   \n",
      "2\t266926175730705     0o7454222770536021  \n",
      "--- 46.2 ms ---\n"
     ]
    }
   ],
   "source": [
    "start_time = time.time()\n",
    "\n",
    "output = {}\n",
    "possible_inputs = [0]\n",
    "\n",
    "for instr in tqdm(np.flip(program)):\n",
    "    \n",
    "    for p in possible_inputs:\n",
    "        find_next(int(p*8), output)\n",
    "    \n",
    "    new_possible_inputs = []\n",
    "    for p in possible_inputs:\n",
    "        new_possible_inputs = np.hstack((\n",
    "            new_possible_inputs,\n",
    "            (output[str(instr)].get(p, []))\n",
    "        ))\n",
    "    possible_inputs = new_possible_inputs\n",
    "    print(f\"{instr}\\t{int(possible_inputs[0]):<20}{oct(int(possible_inputs[0])):<20}\")\n",
    "    \n",
    "print(f\"--- {1000*(time.time() - start_time):.1f} ms ---\"  )"
   ]
  },
  {
   "cell_type": "code",
   "execution_count": 86,
   "metadata": {},
   "outputs": [
    {
     "ename": "KeyError",
     "evalue": "'0'",
     "output_type": "error",
     "traceback": [
      "\u001b[0;31m---------------------------------------------------------------------------\u001b[0m",
      "\u001b[0;31mKeyError\u001b[0m                                  Traceback (most recent call last)",
      "Cell \u001b[0;32mIn[86], line 1\u001b[0m\n\u001b[0;32m----> 1\u001b[0m output[\u001b[38;5;124m'\u001b[39m\u001b[38;5;124m0\u001b[39m\u001b[38;5;124m'\u001b[39m]\n",
      "\u001b[0;31mKeyError\u001b[0m: '0'"
     ]
    }
   ],
   "source": [
    "output['0']"
   ]
  },
  {
   "cell_type": "code",
   "execution_count": 82,
   "metadata": {},
   "outputs": [
    {
     "data": {
      "text/plain": [
       "{2: [20, 21], 3: [24, 28, 29], 5: [40]}"
      ]
     },
     "execution_count": 82,
     "metadata": {},
     "output_type": "execute_result"
    }
   ],
   "source": []
  },
  {
   "cell_type": "code",
   "execution_count": 78,
   "metadata": {},
   "outputs": [
    {
     "data": {
      "application/vnd.jupyter.widget-view+json": {
       "model_id": "80dc050259dd4b5586db168e6b016ea7",
       "version_major": 2,
       "version_minor": 0
      },
      "text/plain": [
       "  0%|          | 0/16 [00:00<?, ?it/s]"
      ]
     },
     "metadata": {},
     "output_type": "display_data"
    },
    {
     "name": "stdout",
     "output_type": "stream",
     "text": [
      "0\t4                   0o4                 \n",
      "3\t37                  0o45                \n",
      "3\t298                 0o452               \n",
      "0\t2390                0o4526              \n",
      "5\t19124               0o45264             \n",
      "5\t152996              0o452644            \n",
      "3\t1223973             0o4526445           \n",
      "4\t9791785             0o45264451          \n",
      "5\t78334283            0o452644513         \n",
      "1\t626674267           0o4526445133        \n",
      "5\t5013394138          0o45264451332       \n",
      "7\t40107153110         0o452644513326      \n",
      "1\t320857224887        0o4526445133267     \n",
      "1\t2566857799098       0o45264451332672    \n",
      "4\t20534862392784      0o452644513326720   \n",
      "2\t164278899142333     0o4526445133267275  \n"
     ]
    }
   ],
   "source": [
    "output = {}\n",
    "possible_inputs = [0]\n",
    "target = 4\n",
    "\n",
    "\n",
    "for instr in tqdm(np.flip(program)):\n",
    "    lo = int(target - min(64, target))\n",
    "    hi = int(target + min(64, target))\n",
    "\n",
    "    for i in (range(lo,hi)):\n",
    "        std_out = run_program(program[:-2], i, 0, 0)\n",
    "        \n",
    "        output[std_out] =  output.get(std_out, {})\n",
    "        output[std_out][register_a] = output[std_out].get(register_a, [])\n",
    "        output[std_out][register_a].append(i)\n",
    "        \n",
    "    new_possible_inputs = []\n",
    "    for p in possible_inputs:\n",
    "        new_possible_inputs = np.hstack((\n",
    "            new_possible_inputs,\n",
    "            (output[str(instr)].get(p, []))\n",
    "        ))\n",
    "    possible_inputs = new_possible_inputs\n",
    "    print(f\"{instr}\\t{int(possible_inputs[0]):<20}{oct(int(possible_inputs[0])):<20}\")\n",
    "    target = int(possible_inputs[0]) * 8\n",
    "    \n",
    "    "
   ]
  },
  {
   "cell_type": "code",
   "execution_count": null,
   "metadata": {},
   "outputs": [],
   "source": []
  },
  {
   "cell_type": "code",
   "execution_count": null,
   "metadata": {},
   "outputs": [],
   "source": []
  }
 ],
 "metadata": {
  "kernelspec": {
   "display_name": "Python 3.12.4 ('base')",
   "language": "python",
   "name": "python3"
  },
  "language_info": {
   "codemirror_mode": {
    "name": "ipython",
    "version": 3
   },
   "file_extension": ".py",
   "mimetype": "text/x-python",
   "name": "python",
   "nbconvert_exporter": "python",
   "pygments_lexer": "ipython3",
   "version": "3.12.4"
  },
  "orig_nbformat": 4,
  "vscode": {
   "interpreter": {
    "hash": "3067ead486e059ec00ffe7555bdb889e6e264a24dc711bf108106cc7baee8d5d"
   }
  }
 },
 "nbformat": 4,
 "nbformat_minor": 2
}
