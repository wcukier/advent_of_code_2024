{
 "cells": [
  {
   "cell_type": "code",
   "execution_count": 1,
   "metadata": {},
   "outputs": [],
   "source": [
    "import numpy as np\n",
    "from tqdm.notebook import tqdm"
   ]
  },
  {
   "cell_type": "code",
   "execution_count": 2,
   "metadata": {},
   "outputs": [],
   "source": [
    "global register_a\n",
    "global register_b\n",
    "global register_c\n",
    "\n",
    "global ip\n",
    "\n",
    "def read_combo(operand):\n",
    "    global register_a\n",
    "    global register_b\n",
    "    global register_c\n",
    "    if 0 <= operand <= 3: return operand\n",
    "    if operand == 4: return register_a\n",
    "    if operand == 5: return register_b\n",
    "    if operand == 6: return register_c\n",
    "    if operand == 7: raise ValueError(\"opcode 7 reserver\")\n",
    "    raise ValueError(\"opcode invalid\")\n",
    "\n",
    "def adv(operand):\n",
    "    global register_a\n",
    "    register_a = int(register_a / (2**read_combo(operand)))\n",
    "    return \"\"\n",
    "\n",
    "def bxl(operand):\n",
    "    global register_b\n",
    "    register_b = register_b ^ operand\n",
    "    return \"\"\n",
    "    \n",
    "def bst(operand):\n",
    "    global register_b\n",
    "    register_b = read_combo(operand) % 8\n",
    "    return \"\"\n",
    "\n",
    "def jnz(operand):\n",
    "    global ip\n",
    "    if register_a != 0: ip = operand - 2\n",
    "    return \"\"\n",
    "    \n",
    "def bxc(operand):\n",
    "    global register_b\n",
    "    register_b = register_b ^ register_c\n",
    "    return \"\"\n",
    "    \n",
    "def out(operand):\n",
    "    return str(read_combo(operand) % 8) + \",\"\n",
    "    \n",
    "def bdv(operand):\n",
    "    global register_b\n",
    "    register_b = int(register_a / (2**read_combo(operand)))\n",
    "    return \"\"\n",
    "    \n",
    "def cdv(operand):\n",
    "    global register_c\n",
    "    register_c = int(register_a / (2**read_combo(operand)))\n",
    "    return \"\"\n",
    "\n",
    "\n",
    "opcode = {\n",
    "    0: adv,\n",
    "    1: bxl,\n",
    "    2: bst,\n",
    "    3: jnz,\n",
    "    4: bxc,\n",
    "    5: out,\n",
    "    6: bdv,\n",
    "    7: cdv\n",
    "          }"
   ]
  },
  {
   "cell_type": "code",
   "execution_count": 3,
   "metadata": {},
   "outputs": [],
   "source": [
    "def run_program(program, reg_a, reg_b, reg_c):\n",
    "    global register_a\n",
    "    global register_b\n",
    "    global register_c\n",
    "    global ip\n",
    "    \n",
    "    register_a = reg_a\n",
    "    register_b = reg_b\n",
    "    register_c = reg_c\n",
    "    \n",
    "    ip = 0\n",
    "    \n",
    "    std_out = \"\"\n",
    "    \n",
    "    repeated_state = {}\n",
    "    \n",
    "    while(0<= ip < len(program) - 1):\n",
    "        state = (ip, register_a, register_b, register_c)\n",
    "        if repeated_state.get(state, 0): break\n",
    "        repeated_state[state] = 1\n",
    "\n",
    "        std_out += opcode[program[ip]](program[ip + 1])\n",
    "        ip += 2\n",
    "        \n",
    "        if len(std_out) > 30: break\n",
    "        \n",
    "        \n",
    "    return std_out[:-1]\n"
   ]
  },
  {
   "cell_type": "code",
   "execution_count": 26,
   "metadata": {},
   "outputs": [],
   "source": [
    "with open(\"d17_input\") as f:\n",
    "    reg_a = f.readline()[:-1]\n",
    "    reg_a = int(reg_a.split(\":\")[-1])\n",
    "    \n",
    "    reg_b = f.readline()[:-1]\n",
    "    reg_b = int(reg_b.split(\":\")[-1])\n",
    "    \n",
    "    reg_c = f.readline()[:-1]\n",
    "    reg_c = int(reg_c.split(\":\")[1])\n",
    "    \n",
    "    f.readline()\n",
    "    program = f.readline()[:-1]\n",
    "    program = np.array(program.split(\":\")[-1].split(\",\"), dtype=int)"
   ]
  },
  {
   "cell_type": "code",
   "execution_count": 28,
   "metadata": {},
   "outputs": [
    {
     "data": {
      "text/plain": [
       "'7,5,4,3,4,5,3,4,6'"
      ]
     },
     "execution_count": 28,
     "metadata": {},
     "output_type": "execute_result"
    }
   ],
   "source": [
    "run_program(program, reg_a, reg_b, reg_c)"
   ]
  },
  {
   "cell_type": "code",
   "execution_count": 18,
   "metadata": {},
   "outputs": [
    {
     "data": {
      "application/vnd.jupyter.widget-view+json": {
       "model_id": "96a2403f8559479cb10a39de057c08f4",
       "version_major": 2,
       "version_minor": 0
      },
      "text/plain": [
       "  0%|          | 0/16 [00:00<?, ?it/s]"
      ]
     },
     "metadata": {},
     "output_type": "display_data"
    },
    {
     "name": "stdout",
     "output_type": "stream",
     "text": [
      "0\t4\n",
      "3\t37\n",
      "3\t298\n",
      "0\t2390\n",
      "5\t19124\n",
      "5\t152996\n",
      "3\t1223973\n",
      "4\t9791785\n",
      "5\t78334283\n",
      "1\t626674267\n",
      "5\t5013394138\n",
      "7\t40107153110\n",
      "1\t320857224887\n",
      "1\t2566857799098\n",
      "4\t20534862392784\n",
      "2\t164278899142333\n"
     ]
    }
   ],
   "source": [
    "output = {}\n",
    "possible_inputs = [0]\n",
    "target = 4\n",
    "\n",
    "\n",
    "for instr in tqdm(np.flip(program)):\n",
    "    lo = int(target - min(100000, target/2))\n",
    "    hi = int(target + min(100000, target/2))\n",
    "\n",
    "    for i in (range(lo,hi)):\n",
    "        std_out = run_program(program[:-2], i, 0, 0)\n",
    "        \n",
    "        output[std_out] =  output.get(std_out, {})\n",
    "        output[std_out][register_a] = output[std_out].get(register_a, [])\n",
    "        output[std_out][register_a].append(i)\n",
    "        \n",
    "    new_possible_inputs = []\n",
    "    for p in possible_inputs:\n",
    "        new_possible_inputs = np.hstack((\n",
    "            new_possible_inputs,\n",
    "            (output[str(instr)].get(p, []))\n",
    "        ))\n",
    "    possible_inputs = new_possible_inputs\n",
    "    print(f\"{instr}\\t{int(possible_inputs[0])}\")\n",
    "    target = int(possible_inputs[0]) * 8\n",
    "    \n",
    "    "
   ]
  }
 ],
 "metadata": {
  "kernelspec": {
   "display_name": "Python 3.12.4 ('base')",
   "language": "python",
   "name": "python3"
  },
  "language_info": {
   "codemirror_mode": {
    "name": "ipython",
    "version": 3
   },
   "file_extension": ".py",
   "mimetype": "text/x-python",
   "name": "python",
   "nbconvert_exporter": "python",
   "pygments_lexer": "ipython3",
   "version": "3.12.4"
  },
  "orig_nbformat": 4,
  "vscode": {
   "interpreter": {
    "hash": "3067ead486e059ec00ffe7555bdb889e6e264a24dc711bf108106cc7baee8d5d"
   }
  }
 },
 "nbformat": 4,
 "nbformat_minor": 2
}
