{
 "cells": [
  {
   "cell_type": "code",
   "execution_count": 9,
   "metadata": {},
   "outputs": [],
   "source": [
    "import numpy as np"
   ]
  },
  {
   "cell_type": "code",
   "execution_count": 10,
   "metadata": {},
   "outputs": [],
   "source": [
    "data = []\n",
    "with open(\"d10_input\") as f:\n",
    "    for line in f:\n",
    "        data.append(list(line[:-1]))\n",
    "data = np.array(data, dtype=int)\n"
   ]
  },
  {
   "cell_type": "code",
   "execution_count": 27,
   "metadata": {},
   "outputs": [],
   "source": [
    "def dfs(data, coords, visited):\n",
    "    # if visited[coords[0], coords[1]]: return 0 #(uncomment for pt 1)\n",
    "    visited[coords[0], coords[1]] = 1\n",
    "    val = data[coords[0], coords[1]]\n",
    "    if val == 9: return 1\n",
    "    \n",
    "    ret = 0\n",
    "    \n",
    "    dirs = np.array([[0, 1], [1, 0], [0, -1], [-1, 0]])\n",
    "    \n",
    "    for dir in dirs:\n",
    "        if ((0 <= (coords + dir)[0] < data.shape[0])\n",
    "            * (0 <= (coords + dir)[1] < data.shape[1])):\n",
    "            if data[(coords + dir)[0], (coords + dir)[1]] == val + 1:\n",
    "                ret += dfs(data, coords + dir, visited)\n",
    "    \n",
    "    return ret"
   ]
  },
  {
   "cell_type": "code",
   "execution_count": 28,
   "metadata": {},
   "outputs": [
    {
     "name": "stdout",
     "output_type": "stream",
     "text": [
      "1609\n"
     ]
    }
   ],
   "source": [
    "sum = 0\n",
    "\n",
    "for i in range(data.shape[0]):\n",
    "    for j in range(data.shape[1]):\n",
    "        if data[i, j] == 0:\n",
    "            coords = np.array([i, j])\n",
    "            visited = np.zeros(data.shape)\n",
    "            sum += dfs(data, coords, visited)\n",
    "\n",
    "print(sum)"
   ]
  },
  {
   "cell_type": "code",
   "execution_count": null,
   "metadata": {},
   "outputs": [],
   "source": []
  }
 ],
 "metadata": {
  "kernelspec": {
   "display_name": "Python 3.12.4 ('base')",
   "language": "python",
   "name": "python3"
  },
  "language_info": {
   "codemirror_mode": {
    "name": "ipython",
    "version": 3
   },
   "file_extension": ".py",
   "mimetype": "text/x-python",
   "name": "python",
   "nbconvert_exporter": "python",
   "pygments_lexer": "ipython3",
   "version": "3.12.4"
  },
  "orig_nbformat": 4,
  "vscode": {
   "interpreter": {
    "hash": "3067ead486e059ec00ffe7555bdb889e6e264a24dc711bf108106cc7baee8d5d"
   }
  }
 },
 "nbformat": 4,
 "nbformat_minor": 2
}
