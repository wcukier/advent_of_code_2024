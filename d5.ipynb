{
 "cells": [
  {
   "cell_type": "code",
   "execution_count": 17,
   "metadata": {},
   "outputs": [],
   "source": [
    "import numpy as np\n",
    "# import collections"
   ]
  },
  {
   "cell_type": "code",
   "execution_count": 27,
   "metadata": {},
   "outputs": [],
   "source": [
    "def valid_update(pages, rules):\n",
    "    disallowed = np.zeros(100)\n",
    "    for page in pages:\n",
    "        if disallowed[int(page)]: return 0\n",
    "        for p in rules[int(page)]:\n",
    "            disallowed[p] = 1\n",
    "    return int(pages[int(len(pages)/2)])\n",
    "\n",
    "def fix_update(pages, rules):\n",
    "    pages = np.array(pages, dtype=int)\n",
    "    processing = []\n",
    "    res = []\n",
    "    for page in pages:\n",
    "        if page not in res:\n",
    "            processing.append(page)\n",
    "            while processing:\n",
    "                reqs = ((set(rules[processing[-1]]) & set(pages)) - set(res))\n",
    "                if reqs:\n",
    "                    for r in reqs:\n",
    "                        processing.append(r)\n",
    "                else:\n",
    "                    p = processing.pop()\n",
    "                    if p not in res:\n",
    "                        res.append(p)\n",
    "    return int(res[int(len(res)/2)])\n",
    "\n",
    "                    \n",
    "                    \n"
   ]
  },
  {
   "cell_type": "code",
   "execution_count": 15,
   "metadata": {},
   "outputs": [
    {
     "name": "stdout",
     "output_type": "stream",
     "text": [
      "6384\n"
     ]
    }
   ],
   "source": [
    "rules = [[] for i in range(100)]\n",
    "sum = 0\n",
    "with open(\"d5_input\") as f:\n",
    "    for line in f:\n",
    "        if \"|\" in line:\n",
    "            rule = line[:-1].split(\"|\")\n",
    "            rules[int(rule[1])].append(int(rule[0]))\n",
    "        elif \",\" in line:\n",
    "            pages = line[:-1].split(\",\")\n",
    "            sum += valid_update(pages, rules)\n",
    "            \n",
    "print(sum)\n",
    "      "
   ]
  },
  {
   "cell_type": "code",
   "execution_count": 29,
   "metadata": {},
   "outputs": [
    {
     "name": "stdout",
     "output_type": "stream",
     "text": [
      "5353\n"
     ]
    }
   ],
   "source": [
    "rules = [[] for i in range(100)]\n",
    "sum = 0\n",
    "with open(\"d5_input\") as f:\n",
    "    for line in f:\n",
    "        if \"|\" in line:\n",
    "            rule = line[:-1].split(\"|\")\n",
    "            rules[int(rule[1])].append(int(rule[0]))\n",
    "        elif \",\" in line:\n",
    "            pages = line[:-1].split(\",\")\n",
    "            if not valid_update(pages, rules):\n",
    "                sum += fix_update(pages, rules)\n",
    "print(sum)\n",
    "      "
   ]
  },
  {
   "cell_type": "code",
   "execution_count": 19,
   "metadata": {},
   "outputs": [],
   "source": [
    "deq = collections.deque([])"
   ]
  },
  {
   "cell_type": "code",
   "execution_count": 22,
   "metadata": {},
   "outputs": [
    {
     "data": {
      "text/plain": [
       "deque([3, 2, 1, 1])"
      ]
     },
     "execution_count": 22,
     "metadata": {},
     "output_type": "execute_result"
    }
   ],
   "source": []
  },
  {
   "cell_type": "code",
   "execution_count": 24,
   "metadata": {},
   "outputs": [
    {
     "data": {
      "text/plain": [
       "set()"
      ]
     },
     "execution_count": 24,
     "metadata": {},
     "output_type": "execute_result"
    }
   ],
   "source": []
  },
  {
   "cell_type": "code",
   "execution_count": null,
   "metadata": {},
   "outputs": [],
   "source": []
  }
 ],
 "metadata": {
  "kernelspec": {
   "display_name": "Python 3.12.4 ('base')",
   "language": "python",
   "name": "python3"
  },
  "language_info": {
   "codemirror_mode": {
    "name": "ipython",
    "version": 3
   },
   "file_extension": ".py",
   "mimetype": "text/x-python",
   "name": "python",
   "nbconvert_exporter": "python",
   "pygments_lexer": "ipython3",
   "version": "3.12.4"
  },
  "orig_nbformat": 4,
  "vscode": {
   "interpreter": {
    "hash": "3067ead486e059ec00ffe7555bdb889e6e264a24dc711bf108106cc7baee8d5d"
   }
  }
 },
 "nbformat": 4,
 "nbformat_minor": 2
}
