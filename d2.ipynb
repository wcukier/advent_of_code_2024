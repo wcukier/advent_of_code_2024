{
 "cells": [
  {
   "cell_type": "code",
   "execution_count": 1,
   "metadata": {},
   "outputs": [],
   "source": [
    "import numpy as np"
   ]
  },
  {
   "cell_type": "code",
   "execution_count": 39,
   "metadata": {},
   "outputs": [],
   "source": [
    "def is_safe_base(levels):\n",
    "    diffs = levels[1:] - levels[:-1]\n",
    "    # print(levels, \"\\n\", diffs)\n",
    "    \n",
    "    if np.any(np.abs(diffs) > 3):\n",
    "        # print(\"diffs too large\")\n",
    "        return 0\n",
    "    if np.all(diffs < 0):\n",
    "        return 1\n",
    "    if np.all(diffs > 0):\n",
    "        return 1\n",
    "    # print(\"not monotonic\")\n",
    "    return 0\n",
    "\n",
    "def is_safe(levels):\n",
    "    res = np.sum([is_safe_base(np.delete(levels, i)) for i in range(len(levels))]) + is_safe_base(levels)\n",
    "    if res > 0: return 1\n",
    "    return 0\n",
    "    "
   ]
  },
  {
   "cell_type": "code",
   "execution_count": 40,
   "metadata": {},
   "outputs": [],
   "source": [
    "safe = 0\n",
    "\n",
    "with open (\"d2_input\") as f:\n",
    "    for line in f:\n",
    "        levels =  np.array(line[:-1].split(\" \"), dtype=int)\n",
    "        safe += is_safe(levels)\n"
   ]
  },
  {
   "cell_type": "code",
   "execution_count": 41,
   "metadata": {},
   "outputs": [
    {
     "data": {
      "text/plain": [
       "604"
      ]
     },
     "execution_count": 41,
     "metadata": {},
     "output_type": "execute_result"
    }
   ],
   "source": [
    "safe"
   ]
  },
  {
   "cell_type": "code",
   "execution_count": null,
   "metadata": {},
   "outputs": [],
   "source": []
  }
 ],
 "metadata": {
  "kernelspec": {
   "display_name": "Python 3.12.4 ('base')",
   "language": "python",
   "name": "python3"
  },
  "language_info": {
   "codemirror_mode": {
    "name": "ipython",
    "version": 3
   },
   "file_extension": ".py",
   "mimetype": "text/x-python",
   "name": "python",
   "nbconvert_exporter": "python",
   "pygments_lexer": "ipython3",
   "version": "3.12.4"
  },
  "orig_nbformat": 4,
  "vscode": {
   "interpreter": {
    "hash": "3067ead486e059ec00ffe7555bdb889e6e264a24dc711bf108106cc7baee8d5d"
   }
  }
 },
 "nbformat": 4,
 "nbformat_minor": 2
}
