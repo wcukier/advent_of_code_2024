{
 "cells": [
  {
   "cell_type": "code",
   "execution_count": 6,
   "metadata": {},
   "outputs": [],
   "source": [
    "import numpy as np\n",
    "from tqdm.notebook import tqdm\n"
   ]
  },
  {
   "cell_type": "code",
   "execution_count": 7,
   "metadata": {},
   "outputs": [],
   "source": [
    "def dfs(x, y, visited, obstacles, steps):\n",
    "    if not 0 <= x <= 70: return\n",
    "    if not 0 <= y <= 70: return\n",
    "    if obstacles.get((x, y), 0): return\n",
    "\n",
    "    \n",
    "    if steps  >= visited.get((x,y), np.inf): return \n",
    "    visited[(x, y)] = steps \n",
    "    \n",
    "    dfs(x+1, y, visited, obstacles, steps+1)\n",
    "    dfs(x, y+1, visited, obstacles, steps+1)\n",
    "    dfs(x-1, y, visited, obstacles, steps+1)\n",
    "    dfs(x, y-1, visited, obstacles, steps+1)"
   ]
  },
  {
   "cell_type": "code",
   "execution_count": 8,
   "metadata": {},
   "outputs": [],
   "source": [
    "obstacles = {}\n",
    "\n",
    "with open(\"d18_input\") as f:\n",
    "    for i in range(1024):\n",
    "        x, y = f.readline().split(\",\")\n",
    "        x, y = int(x), int(y)\n",
    "        obstacles[(x,y)] = 1\n",
    "        \n",
    "        "
   ]
  },
  {
   "cell_type": "code",
   "execution_count": 9,
   "metadata": {},
   "outputs": [],
   "source": [
    "def dfs2(x, y, visited, obstacles):\n",
    "    if x == 70 and y == 70: return True\n",
    "    if not 0 <= x <= 70: return False\n",
    "    if not 0 <= y <= 70: return False\n",
    "    if obstacles.get((x, y), 0): return False\n",
    "\n",
    "    \n",
    "    if visited.get((x,y), False): return False\n",
    "    visited[(x, y)] = True     \n",
    "\n",
    "    if dfs2(x+1, y, visited, obstacles): return True\n",
    "    if dfs2(x, y+1, visited, obstacles): return True\n",
    "    if dfs2(x-1, y, visited, obstacles): return True\n",
    "    if dfs2(x, y-1, visited, obstacles): return True"
   ]
  },
  {
   "cell_type": "code",
   "execution_count": 10,
   "metadata": {},
   "outputs": [],
   "source": [
    "def exit_reachable(obstacles):\n",
    "    visited = {}\n",
    "    return dfs2(0, 0, visited, obstacles)"
   ]
  },
  {
   "cell_type": "code",
   "execution_count": 19,
   "metadata": {},
   "outputs": [
    {
     "name": "stdout",
     "output_type": "stream",
     "text": [
      "27 60\n",
      "\n"
     ]
    }
   ],
   "source": [
    "hi = 3450\n",
    "lo = 0\n",
    "while(hi > lo):\n",
    "    mid = int((hi + lo)/2)\n",
    "    obstacles = {}\n",
    "    with open(\"d18_input\") as f:\n",
    "        for i in range(mid):\n",
    "            x, y = f.readline().split(\",\")\n",
    "            x, y = int(x), int(y)\n",
    "            obstacles[(x,y)] = 1\n",
    "        x, y = f.readline().split(\",\")\n",
    "        if exit_reachable(obstacles):\n",
    "            lo = mid + 1\n",
    "        else:\n",
    "            hi = mid\n",
    "print(x, y)\n",
    "        "
   ]
  },
  {
   "cell_type": "code",
   "execution_count": 71,
   "metadata": {},
   "outputs": [
    {
     "data": {
      "text/plain": [
       "863"
      ]
     },
     "execution_count": 71,
     "metadata": {},
     "output_type": "execute_result"
    }
   ],
   "source": [
    "i"
   ]
  },
  {
   "cell_type": "code",
   "execution_count": null,
   "metadata": {},
   "outputs": [],
   "source": []
  }
 ],
 "metadata": {
  "kernelspec": {
   "display_name": "Python 3.12.2",
   "language": "python",
   "name": "python3"
  },
  "language_info": {
   "codemirror_mode": {
    "name": "ipython",
    "version": 3
   },
   "file_extension": ".py",
   "mimetype": "text/x-python",
   "name": "python",
   "nbconvert_exporter": "python",
   "pygments_lexer": "ipython3",
   "version": "3.12.2"
  },
  "orig_nbformat": 4,
  "vscode": {
   "interpreter": {
    "hash": "3067ead486e059ec00ffe7555bdb889e6e264a24dc711bf108106cc7baee8d5d"
   }
  }
 },
 "nbformat": 4,
 "nbformat_minor": 2
}
