{
 "cells": [
  {
   "cell_type": "code",
   "execution_count": 1,
   "metadata": {},
   "outputs": [],
   "source": [
    "import numpy as np\n",
    "import matplotlib.pyplot as plt\n",
    "from tqdm.notebook import tqdm"
   ]
  },
  {
   "cell_type": "code",
   "execution_count": 2,
   "metadata": {},
   "outputs": [],
   "source": [
    "pos = []\n",
    "vel = []\n",
    "h = 103\n",
    "w = 101\n",
    "# h = 7\n",
    "# w = 11\n",
    "with open(\"d14_input\") as f:\n",
    "    for line in f:\n",
    "        p, v = line[:-1].split(\" \")\n",
    "        px, py = p[2:].split(\",\")\n",
    "        vx, vy = v[2:].split(\",\")\n",
    "        pos.append([px, py])\n",
    "        vel.append([vx, vy])\n",
    "        \n",
    "pos = np.array(pos, dtype=int)\n",
    "vel = np.array(vel, dtype=int)"
   ]
  },
  {
   "cell_type": "code",
   "execution_count": 3,
   "metadata": {},
   "outputs": [
    {
     "name": "stdout",
     "output_type": "stream",
     "text": [
      "218965032\n"
     ]
    }
   ],
   "source": [
    "new_pos = (pos + 100 * vel) %[w, h]\n",
    "\n",
    "ul = np.sum((new_pos[:, 0] < int(w/2)) *\n",
    "          (new_pos[:, 1] < int(h/2)))\n",
    "\n",
    "ur = np.sum((new_pos[:, 0] > (int(w/2))) *\n",
    "          (new_pos[:, 1] < int(h/2)))\n",
    "\n",
    "ll = np.sum((new_pos[:, 0] < int(w/2)) *\n",
    "          (new_pos[:, 1] > (int(h/2))))\n",
    "\n",
    "lr = np.sum((new_pos[:, 0] > (int(w/2))) *\n",
    "          (new_pos[:, 1] > (int(h/2))))\n",
    "\n",
    "\n",
    "print(ul * ur * ll * lr)"
   ]
  },
  {
   "cell_type": "code",
   "execution_count": 4,
   "metadata": {},
   "outputs": [],
   "source": [
    "img = np.zeros((w,h))\n",
    "for i in range(pos.shape[0]):\n",
    "    img[pos[i, 0], pos[i, 1]] = 1"
   ]
  },
  {
   "cell_type": "code",
   "execution_count": 5,
   "metadata": {},
   "outputs": [],
   "source": [
    "def check_contig(img):\n",
    "    if not img[int(h/2), int(w/2)]: return False\n",
    "    visited = np.zeros(img.shape)\n",
    "    sum = np.sum(np.logical_xor(img, visited))\n",
    "    if sum < 450: print(sum)\n",
    "    if sum > 450: return False\n",
    "    return True\n",
    "    \n",
    "def dfs(loc, img, visited):\n",
    "    if not 0 <= loc[0] < w: return\n",
    "    if not 0 <= loc[1] < h: return\n",
    "    if not img[loc[0], [loc[1]]]: return\n",
    "    if visited[loc[0], loc[1]]: return\n",
    "    \n",
    "    visited[loc[0], loc[1]] = 1\n",
    "    \n",
    "    dfs([loc[0]+1, loc[1]], img, visited)\n",
    "    dfs([loc[0]-1, loc[1]], img, visited)\n",
    "    dfs([loc[0], loc[1]]+1, img, visited)\n",
    "    dfs([loc[0], loc[1]]-1, img, visited)\n",
    "    dfs([loc[0]+1, loc[1]+1], img, visited)\n",
    "    dfs([loc[0]-1, loc[1]-1], img, visited)\n",
    "    dfs([loc[0]-1, loc[1]]+1, img, visited)\n",
    "    dfs([loc[0]+1, loc[1]]-1, img, visited)\n",
    "    "
   ]
  },
  {
   "cell_type": "code",
   "execution_count": 12,
   "metadata": {},
   "outputs": [
    {
     "data": {
      "application/vnd.jupyter.widget-view+json": {
       "model_id": "fba01afb33d04ebe8e5e03ab5aea5d57",
       "version_major": 2,
       "version_minor": 0
      },
      "text/plain": [
       "  0%|          | 0/999999 [00:00<?, ?it/s]"
      ]
     },
     "metadata": {},
     "output_type": "display_data"
    },
    {
     "ename": "KeyboardInterrupt",
     "evalue": "",
     "output_type": "error",
     "traceback": [
      "\u001b[0;31m---------------------------------------------------------------------------\u001b[0m",
      "\u001b[0;31mKeyboardInterrupt\u001b[0m                         Traceback (most recent call last)",
      "Cell \u001b[0;32mIn[12], line 7\u001b[0m\n\u001b[1;32m      3\u001b[0m img \u001b[38;5;241m=\u001b[39m np\u001b[38;5;241m.\u001b[39mzeros((w,h))\n\u001b[1;32m      5\u001b[0m new_pos \u001b[38;5;241m=\u001b[39m (new_pos \u001b[38;5;241m+\u001b[39m vel) \u001b[38;5;241m%\u001b[39m[w, h]\n\u001b[0;32m----> 7\u001b[0m \u001b[38;5;28;01mfor\u001b[39;00m i \u001b[38;5;129;01min\u001b[39;00m \u001b[38;5;28mrange\u001b[39m(pos\u001b[38;5;241m.\u001b[39mshape[\u001b[38;5;241m0\u001b[39m]):\n\u001b[1;32m      8\u001b[0m     img[new_pos[i, \u001b[38;5;241m0\u001b[39m], new_pos[i, \u001b[38;5;241m1\u001b[39m]] \u001b[38;5;241m=\u001b[39m \u001b[38;5;241m1\u001b[39m\n\u001b[1;32m     10\u001b[0m \u001b[38;5;28;01mif\u001b[39;00m np\u001b[38;5;241m.\u001b[39mstd(new_pos[:, \u001b[38;5;241m0\u001b[39m]) \u001b[38;5;241m<\u001b[39m \u001b[38;5;241m25\u001b[39m \u001b[38;5;129;01mand\u001b[39;00m np\u001b[38;5;241m.\u001b[39mstd(new_pos[:,\u001b[38;5;241m1\u001b[39m]) \u001b[38;5;241m<\u001b[39m \u001b[38;5;241m25\u001b[39m:\n",
      "\u001b[0;31mKeyboardInterrupt\u001b[0m: "
     ]
    }
   ],
   "source": [
    "new_pos = pos\n",
    "for j in tqdm(range(1, 1000000)):\n",
    "    img = np.zeros((w,h))\n",
    "\n",
    "    new_pos = (new_pos + vel) %[w, h]\n",
    "\n",
    "    for i in range(pos.shape[0]):\n",
    "        img[new_pos[i, 0], new_pos[i, 1]] = 1\n",
    "\n",
    "    if np.std(new_pos[:, 0]) < 25 and np.std(new_pos[:,1]) < 25:\n",
    "        plt.imshow(img)\n",
    "        plt.savefig(f\"d14_figs/{j}.png\")"
   ]
  },
  {
   "cell_type": "code",
   "execution_count": 8,
   "metadata": {},
   "outputs": [
    {
     "data": {
      "text/plain": [
       "30.081493048051986"
      ]
     },
     "execution_count": 8,
     "metadata": {},
     "output_type": "execute_result"
    }
   ],
   "source": [
    "np.std(pos[:,1])"
   ]
  },
  {
   "cell_type": "code",
   "execution_count": 47,
   "metadata": {},
   "outputs": [
    {
     "data": {
      "image/png": "[encoded data removed]",
      "text/plain": [
       "<Figure size 640x480 with 1 Axes>"
      ]
     },
     "metadata": {},
     "output_type": "display_data"
    }
   ],
   "source": [
    "plt.imshow(img)\n",
    "plt.show()"
   ]
  },
  {
   "cell_type": "code",
   "execution_count": 53,
   "metadata": {},
   "outputs": [
    {
     "data": {
      "text/plain": [
       "(500, 2)"
      ]
     },
     "execution_count": 53,
     "metadata": {},
     "output_type": "execute_result"
    }
   ],
   "source": [
    "pos.shape"
   ]
  },
  {
   "cell_type": "code",
   "execution_count": null,
   "metadata": {},
   "outputs": [],
   "source": []
  }
 ],
 "metadata": {
  "kernelspec": {
   "display_name": "Python 3.8.19",
   "language": "python",
   "name": "python3"
  },
  "language_info": {
   "codemirror_mode": {
    "name": "ipython",
    "version": 3
   },
   "file_extension": ".py",
   "mimetype": "text/x-python",
   "name": "python",
   "nbconvert_exporter": "python",
   "pygments_lexer": "ipython3",
   "version": "3.8.19"
  },
  "orig_nbformat": 4,
  "vscode": {
   "interpreter": {
    "hash": "aaead61585ffbfa77ad988ca8cedcffcb67b4f54f12412d1ad3b769248fed130"
   }
  }
 },
 "nbformat": 4,
 "nbformat_minor": 2
}
