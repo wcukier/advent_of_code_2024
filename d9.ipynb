{
 "cells": [
  {
   "cell_type": "code",
   "execution_count": 103,
   "metadata": {},
   "outputs": [],
   "source": [
    "import numpy as np\n",
    "from tqdm.notebook import tqdm"
   ]
  },
  {
   "cell_type": "code",
   "execution_count": 108,
   "metadata": {},
   "outputs": [],
   "source": [
    "with open(\"d9_input\") as f:\n",
    "    mem = np.array(list(f.readline()[:-1]), dtype=int)\n",
    "locs = np.cumsum(mem) - mem"
   ]
  },
  {
   "cell_type": "code",
   "execution_count": 75,
   "metadata": {},
   "outputs": [
    {
     "name": "stdout",
     "output_type": "stream",
     "text": [
      "6399153661894\n"
     ]
    }
   ],
   "source": [
    "res = []\n",
    "lo = 0\n",
    "hi = len(mem)-1\n",
    "sum = 0\n",
    "block_loc = 0\n",
    "while(lo <= hi):\n",
    "    # print(mem)\n",
    "    # print(res)\n",
    "    \n",
    "    while(mem[lo]) > 0:\n",
    "        sum += block_loc * int(lo/2)\n",
    "        res.append(int(lo/2))\n",
    "        block_loc += 1\n",
    "        mem[lo] -= 1\n",
    "        \n",
    "    lo += 1\n",
    "    if lo >= hi:\n",
    "        continue\n",
    "    \n",
    "    while(mem[lo]) > 0:\n",
    "        if mem[hi] == 0:\n",
    "            hi -= 2\n",
    "            continue\n",
    "        sum += block_loc * (int(hi/2))\n",
    "        res.append(int(hi/2))\n",
    "        block_loc += 1\n",
    "        mem[lo] -= 1\n",
    "        mem[hi] -= 1\n",
    "    lo += 1\n",
    "\n",
    "print(sum)"
   ]
  },
  {
   "cell_type": "code",
   "execution_count": 109,
   "metadata": {},
   "outputs": [
    {
     "data": {
      "application/vnd.jupyter.widget-view+json": {
       "model_id": "84393f17aa0245e19785129a31b53c85",
       "version_major": 2,
       "version_minor": 0
      },
      "text/plain": [
       "  0%|          | 0/10000 [00:00<?, ?it/s]"
      ]
     },
     "metadata": {},
     "output_type": "display_data"
    },
    {
     "name": "stdout",
     "output_type": "stream",
     "text": [
      "6421724645083\n"
     ]
    }
   ],
   "source": [
    "res = np.zeros(locs[-1] + mem[-1])\n",
    "# hi = len(mem)-1\n",
    "# while(0 <= hi):\n",
    "for hi in tqdm(range(len(mem)-1, -1, -2)):\n",
    "    lo = 1\n",
    "    while(True):\n",
    "        if lo >= hi:\n",
    "            res[locs[hi]:locs[hi]+mem[hi]] = (int(hi/2))\n",
    "            break\n",
    "        \n",
    "        if mem[hi] <= mem[lo]:\n",
    "            res[locs[lo]:locs[lo]+mem[hi]] = (int(hi/2))\n",
    "            locs[lo] += mem[hi]\n",
    "            mem[lo]-= mem[hi]\n",
    "            break\n",
    "        lo += 2\n",
    "    hi -= 2\n",
    "\n",
    "print(int(np.sum(np.arange(len(res)) * res)))"
   ]
  }
 ],
 "metadata": {
  "kernelspec": {
   "display_name": "Python 3.12.4 ('base')",
   "language": "python",
   "name": "python3"
  },
  "language_info": {
   "codemirror_mode": {
    "name": "ipython",
    "version": 3
   },
   "file_extension": ".py",
   "mimetype": "text/x-python",
   "name": "python",
   "nbconvert_exporter": "python",
   "pygments_lexer": "ipython3",
   "version": "3.12.4"
  },
  "orig_nbformat": 4,
  "vscode": {
   "interpreter": {
    "hash": "3067ead486e059ec00ffe7555bdb889e6e264a24dc711bf108106cc7baee8d5d"
   }
  }
 },
 "nbformat": 4,
 "nbformat_minor": 2
}
