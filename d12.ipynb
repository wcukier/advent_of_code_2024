{
 "cells": [
  {
   "cell_type": "code",
   "execution_count": 20,
   "metadata": {},
   "outputs": [],
   "source": [
    "import numpy as np"
   ]
  },
  {
   "cell_type": "code",
   "execution_count": 122,
   "metadata": {},
   "outputs": [],
   "source": [
    "def dfs(chart, x, y, visited, boundary):\n",
    "    if visited[x, y]: return 0\n",
    "    \n",
    "    visited[x, y] = 1\n",
    "    perimeter = 0\n",
    "    \n",
    "    if 0 <= x+1 < chart.shape[0]:\n",
    "        if chart[x, y] == chart[x+1, y]:\n",
    "            perimeter += dfs(chart, x+1, y, visited, boundary)\n",
    "        else:\n",
    "            perimeter +=1\n",
    "            boundary[\"hor+\"][x] = boundary[\"hor+\"].get(x, [])\n",
    "            boundary[\"hor+\"][x].append(y)\n",
    "    else:\n",
    "        perimeter +=1\n",
    "        boundary[\"hor+\"][x] = boundary[\"hor+\"].get(x, [])\n",
    "        boundary[\"hor+\"][x].append(y)\n",
    "        \n",
    "    if 0 <= y+1 < chart.shape[0]:\n",
    "        if chart[x, y] == chart[x, y+1]:\n",
    "            perimeter += dfs(chart, x, y+1, visited, boundary)\n",
    "        else:\n",
    "            perimeter +=1\n",
    "            boundary[\"vert+\"][y] = boundary[\"vert+\"].get(y, [])\n",
    "            boundary[\"vert+\"][y].append(x)\n",
    "\n",
    "    else:\n",
    "        perimeter +=1\n",
    "        boundary[\"vert+\"][y] = boundary[\"vert+\"].get(y, [])\n",
    "        boundary[\"vert+\"][y].append(x)\n",
    "\n",
    "        \n",
    "    if 0 <= x-1 < chart.shape[0]:\n",
    "        if chart[x, y] == chart[x-1, y]:\n",
    "            perimeter += dfs(chart, x-1, y, visited, boundary)\n",
    "        else:\n",
    "            perimeter +=1\n",
    "            boundary[\"hor-\"][x-1] = boundary[\"hor-\"].get(x-1, [])\n",
    "            boundary[\"hor-\"][x-1].append(y)\n",
    "    else:\n",
    "        perimeter +=1\n",
    "        boundary[\"hor-\"][x-1] = boundary[\"hor-\"].get(x-1, [])\n",
    "        boundary[\"hor-\"][x-1].append(y)\n",
    "        \n",
    "    if 0 <= y-1 < chart.shape[0]:\n",
    "        if chart[x, y] == chart[x, y-1]:\n",
    "            perimeter += dfs(chart, x, y-1, visited, boundary)\n",
    "        else:\n",
    "            perimeter +=1\n",
    "            boundary[\"vert-\"][y-1] = boundary[\"vert-\"].get(y-1, [])\n",
    "            boundary[\"vert-\"][y-1].append(x)\n",
    "\n",
    "    else:\n",
    "        perimeter +=1\n",
    "        boundary[\"vert-\"][y-1] = boundary[\"vert-\"].get(y-1, [])\n",
    "        boundary[\"vert-\"][y-1].append(x)\n",
    "\n",
    "        \n",
    "    return perimeter"
   ]
  },
  {
   "cell_type": "code",
   "execution_count": 150,
   "metadata": {},
   "outputs": [],
   "source": [
    "def n_gaps(arr):\n",
    "    arr = np.sort(arr)\n",
    "    \n",
    "    gaps = 0\n",
    "    for i in range(1, len(arr)):\n",
    "        if arr[i] != arr[i-1] +1: gaps += 1\n",
    "    return gaps\n",
    "\n",
    "def count_sides(boundary):\n",
    "    sides = 0\n",
    "    arrs = [boundary[key1][key2] for key1 in boundary.keys() for key2 in boundary[key1].keys()]\n",
    "    for arr in arrs:\n",
    "        sides += 1 + n_gaps(arr)\n",
    "    return sides"
   ]
  },
  {
   "cell_type": "code",
   "execution_count": 153,
   "metadata": {},
   "outputs": [],
   "source": [
    "chart = []\n",
    "with open(\"d12_input\") as f:\n",
    "    for line in f:\n",
    "        chart.append(list(line)[:-1])\n",
    "    \n",
    "chart = np.array(chart)"
   ]
  },
  {
   "cell_type": "code",
   "execution_count": 154,
   "metadata": {},
   "outputs": [
    {
     "name": "stdout",
     "output_type": "stream",
     "text": [
      "1573474\n",
      "966476\n"
     ]
    }
   ],
   "source": [
    "explored = np.zeros(chart.shape)\n",
    "\n",
    "sum = 0\n",
    "sum2 = 0\n",
    "\n",
    "for x in range(chart.shape[0]):\n",
    "    for y in range(chart.shape[1]):\n",
    "        if not explored[x, y]:\n",
    "            visited = np.zeros(chart.shape)\n",
    "            boundary = {\"hor+\": {}, \n",
    "                        \"hor-\": {}, \n",
    "                        \"vert+\": {}, \n",
    "                        \"vert-\": {}}\n",
    "            perimeter = dfs(chart, x, y, visited, boundary)\n",
    "            n_sides = count_sides(boundary)\n",
    "            # pad_visited = np.pad(visited, 1)\n",
    "            # n_sides = count_sides(pad_visited, x+1, y+1)\n",
    "            \n",
    "            # print(chart[x, y], n_sides, np.sum(visited))\n",
    "            sum += int(np.sum(visited) * perimeter)\n",
    "            sum2 +=int(np.sum(visited) * n_sides)\n",
    "            explored = explored + visited\n",
    "            \n",
    "print(sum)\n",
    "print(sum2)"
   ]
  }
 ],
 "metadata": {
  "kernelspec": {
   "display_name": "Python 3.12.4 ('base')",
   "language": "python",
   "name": "python3"
  },
  "language_info": {
   "codemirror_mode": {
    "name": "ipython",
    "version": 3
   },
   "file_extension": ".py",
   "mimetype": "text/x-python",
   "name": "python",
   "nbconvert_exporter": "python",
   "pygments_lexer": "ipython3",
   "version": "3.12.4"
  },
  "orig_nbformat": 4,
  "vscode": {
   "interpreter": {
    "hash": "3067ead486e059ec00ffe7555bdb889e6e264a24dc711bf108106cc7baee8d5d"
   }
  }
 },
 "nbformat": 4,
 "nbformat_minor": 2
}
