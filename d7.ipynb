{
 "cells": [
  {
   "cell_type": "code",
   "execution_count": 1,
   "metadata": {},
   "outputs": [],
   "source": [
    "import numpy as np"
   ]
  },
  {
   "cell_type": "code",
   "execution_count": 23,
   "metadata": {},
   "outputs": [],
   "source": [
    "def check_operator(line):\n",
    "    total, numbers = line[:-1].split(\": \")\n",
    "    total = int(total)\n",
    "    numbers = np.array(numbers.split(\" \"), dtype=int)\n",
    "    return recursive_operator_check(total, total, numbers)\n",
    "\n",
    "def recursive_operator_check(orig_total, total, numbers):\n",
    "    if (len(numbers) == 1):\n",
    "        if (total == numbers[0]):\n",
    "            return orig_total\n",
    "        return 0\n",
    "    \n",
    "    if total < 0: return 0\n",
    "    \n",
    "    if total % numbers[-1] == 0:\n",
    "        return max(recursive_operator_check(orig_total, int(total/numbers[-1]), numbers[:-1]),\n",
    "                   recursive_operator_check(orig_total, int(total - numbers[-1]), numbers[:-1]))\n",
    "    return recursive_operator_check(orig_total, int(total - numbers[-1]), numbers[:-1])"
   ]
  },
  {
   "cell_type": "code",
   "execution_count": 24,
   "metadata": {},
   "outputs": [
    {
     "name": "stdout",
     "output_type": "stream",
     "text": [
      "5512534574980\n"
     ]
    }
   ],
   "source": [
    "sum = 0\n",
    "with open(\"d7_input\") as f:\n",
    "    for line in f:\n",
    "        sum += check_operator(line)\n",
    "\n",
    "print(sum)"
   ]
  },
  {
   "cell_type": "code",
   "execution_count": 27,
   "metadata": {},
   "outputs": [],
   "source": [
    "def check_operator2(line):\n",
    "    total, numbers = line[:-1].split(\": \")\n",
    "    total = int(total)\n",
    "    numbers = np.array(numbers.split(\" \"), dtype=int)\n",
    "    return recursive_operator_check2(total, total, numbers, False, False)\n",
    "\n",
    "def recursive_operator_check2(orig_total, total, numbers, did_multiply, did_concat):\n",
    "    if (len(numbers) == 1):\n",
    "        if (total == numbers[0]):\n",
    "            return orig_total\n",
    "        return 0\n",
    "    \n",
    "    if total < 0: return 0\n",
    "    \n",
    "    values = [recursive_operator_check2(orig_total, int(total - numbers[-1]), numbers[:-1], False, False)]\n",
    "    \n",
    "    if total % numbers[-1] == 0:\n",
    "        values.append(recursive_operator_check2(orig_total, int(total/numbers[-1]), numbers[:-1], True, False))\n",
    "                  \n",
    "    t_str = str(total)\n",
    "    n_str = str(numbers[-1])\n",
    "                  \n",
    "    if t_str[-len(n_str):] == n_str:\n",
    "        values.append(recursive_operator_check2(orig_total, int(\"0\" + t_str[:-len(n_str)]), numbers[:-1], False, True))\n",
    "    return np.max(values)"
   ]
  },
  {
   "cell_type": "code",
   "execution_count": 28,
   "metadata": {},
   "outputs": [
    {
     "name": "stdout",
     "output_type": "stream",
     "text": [
      "328790210468594\n"
     ]
    }
   ],
   "source": [
    "sum = 0\n",
    "with open(\"d7_input\") as f:\n",
    "    for line in f:\n",
    "        sum += check_operator2(line)\n",
    "\n",
    "print(sum)"
   ]
  },
  {
   "cell_type": "code",
   "execution_count": 26,
   "metadata": {},
   "outputs": [
    {
     "data": {
      "text/plain": [
       "'05'"
      ]
     },
     "execution_count": 26,
     "metadata": {},
     "output_type": "execute_result"
    }
   ],
   "source": []
  },
  {
   "cell_type": "code",
   "execution_count": null,
   "metadata": {},
   "outputs": [],
   "source": []
  }
 ],
 "metadata": {
  "kernelspec": {
   "display_name": "Python 3.12.4 ('base')",
   "language": "python",
   "name": "python3"
  },
  "language_info": {
   "codemirror_mode": {
    "name": "ipython",
    "version": 3
   },
   "file_extension": ".py",
   "mimetype": "text/x-python",
   "name": "python",
   "nbconvert_exporter": "python",
   "pygments_lexer": "ipython3",
   "version": "3.12.4"
  },
  "orig_nbformat": 4,
  "vscode": {
   "interpreter": {
    "hash": "3067ead486e059ec00ffe7555bdb889e6e264a24dc711bf108106cc7baee8d5d"
   }
  }
 },
 "nbformat": 4,
 "nbformat_minor": 2
}
